{
 "cells": [
  {
   "cell_type": "markdown",
   "metadata": {},
   "source": [
    "# WeatherPy\n",
    "----\n",
    "\n",
    "#### Note\n",
    "* Instructions have been included for each segment. You do not have to follow them exactly, but they are included to help you think through the steps."
   ]
  },
  {
   "cell_type": "code",
   "execution_count": 3,
   "metadata": {},
   "outputs": [
    {
     "name": "stdout",
     "output_type": "stream",
     "text": [
      "Collecting citipy\n",
      "  Downloading citipy-0.0.5.tar.gz (557 kB)\n",
      "\u001b[K     |████████████████████████████████| 557 kB 3.8 MB/s eta 0:00:01\n",
      "\u001b[?25hCollecting kdtree>=0.12\n",
      "  Downloading kdtree-0.16-py2.py3-none-any.whl (7.7 kB)\n",
      "Building wheels for collected packages: citipy\n",
      "  Building wheel for citipy (setup.py) ... \u001b[?25ldone\n",
      "\u001b[?25h  Created wheel for citipy: filename=citipy-0.0.5-py3-none-any.whl size=559701 sha256=0d5a05e6f8c3041687b25f0c44cd2f090e1ea50743ca229b641f5cc7f97abb9b\n",
      "  Stored in directory: /Users/carolineambriz/Library/Caches/pip/wheels/6d/df/5e/ad8eb9cc5ee7f4ba76865167c09f9a7edff405c669111d8353\n",
      "Successfully built citipy\n",
      "Installing collected packages: kdtree, citipy\n",
      "Successfully installed citipy-0.0.5 kdtree-0.16\n",
      "Note: you may need to restart the kernel to use updated packages.\n"
     ]
    }
   ],
   "source": [
    "pip install citipy"
   ]
  },
  {
   "cell_type": "code",
   "execution_count": 5,
   "metadata": {
    "scrolled": true
   },
   "outputs": [],
   "source": [
    "# Dependencies and Setup\n",
    "import matplotlib.pyplot as plt\n",
    "import pandas as pd\n",
    "import numpy as np\n",
    "import requests\n",
    "import time\n",
    "from scipy.stats import linregress\n",
    "\n",
    "# Import API key\n",
    "from api_keys import weather_api_key\n",
    "\n",
    "# Incorporated citipy to determine city based on latitude and longitude\n",
    "from citipy import citipy\n",
    "\n",
    "# Output File (CSV)\n",
    "output_data_file = \"output_data/cities.csv\"\n",
    "\n",
    "# Range of latitudes and longitudes\n",
    "lat_range = (-90, 90)\n",
    "lng_range = (-180, 180)"
   ]
  },
  {
   "cell_type": "markdown",
   "metadata": {},
   "source": [
    "## Generate Cities List"
   ]
  },
  {
   "cell_type": "code",
   "execution_count": 6,
   "metadata": {},
   "outputs": [
    {
     "data": {
      "text/plain": [
       "605"
      ]
     },
     "execution_count": 6,
     "metadata": {},
     "output_type": "execute_result"
    }
   ],
   "source": [
    "# List for holding lat_lngs and cities\n",
    "lat_lngs = []\n",
    "cities = []\n",
    "\n",
    "# Create a set of random lat and lng combinations\n",
    "lats = np.random.uniform(lat_range[0], lat_range[1], size=1500)\n",
    "lngs = np.random.uniform(lng_range[0], lng_range[1], size=1500)\n",
    "lat_lngs = zip(lats, lngs)\n",
    "\n",
    "# Identify nearest city for each lat, lng combination\n",
    "for lat_lng in lat_lngs:\n",
    "    city = citipy.nearest_city(lat_lng[0], lat_lng[1]).city_name\n",
    "    \n",
    "    # If the city is unique, then add it to a our cities list\n",
    "    if city not in cities:\n",
    "        cities.append(city)\n",
    "\n",
    "# Print the city count to confirm sufficient count\n",
    "len(cities) "
   ]
  },
  {
   "cell_type": "markdown",
   "metadata": {},
   "source": [
    "### Perform API Calls\n",
    "* Perform a weather check on each city using a series of successive API calls.\n",
    "* Include a print log of each city as it'sbeing processed (with the city number and city name).\n"
   ]
  },
  {
   "cell_type": "code",
   "execution_count": 58,
   "metadata": {},
   "outputs": [],
   "source": [
    "city_list = []\n",
    "lat_list= []\n",
    "lng_list = []\n",
    "max_temp_list = []\n",
    "humidity_list = []\n",
    "cloudy_list = []\n",
    "wind_speed_list = []\n",
    "country_list = []\n",
    "date_list = []\n",
    "index = 0\n",
    "counter = 1"
   ]
  },
  {
   "cell_type": "code",
   "execution_count": 60,
   "metadata": {
    "scrolled": true
   },
   "outputs": [
    {
     "name": "stdout",
     "output_type": "stream",
     "text": [
      "-------------------------\n",
      "Beginning Data Retrieval \n",
      "-------------------------\n",
      "Processing Record 2 of Set 1 : hermanus\n",
      "Processing Record 3 of Set 1 : rikitea\n",
      "Processing Record 4 of Set 1 : faya\n",
      "Processing Record 5 of Set 1 : margate\n",
      "Processing Record 6 of Set 1 : mar del plata\n",
      "Processing Record 7 of Set 1 : barrow\n",
      "Processing Record 8 of Set 1 : lahuachaca\n",
      "Processing Record 9 of Set 1 : atuona\n",
      "Processing Record 10 of Set 1 : new norfolk\n",
      "Processing Record 11 of Set 1 : saint-joseph\n",
      "Processing Record 12 of Set 1 : kaitangata\n",
      "Processing Record 13 of Set 1 : domoni\n",
      "Processing Record 14 of Set 1 : ushuaia\n",
      "City not found. Skipping.\n",
      "Processing Record 16 of Set 1 : coquimbo\n",
      "Processing Record 17 of Set 1 : port hawkesbury\n",
      "Processing Record 18 of Set 1 : lata\n",
      "Processing Record 19 of Set 1 : meulaboh\n",
      "Processing Record 20 of Set 1 : kapaa\n",
      "Processing Record 21 of Set 1 : fortuna\n",
      "City not found. Skipping.\n",
      "Processing Record 23 of Set 1 : talnakh\n",
      "Processing Record 24 of Set 1 : hobart\n",
      "Processing Record 25 of Set 1 : boden\n",
      "Processing Record 26 of Set 1 : hilo\n",
      "Processing Record 27 of Set 1 : port elizabeth\n",
      "Processing Record 28 of Set 1 : butaritari\n",
      "City not found. Skipping.\n",
      "Processing Record 30 of Set 1 : busselton\n",
      "Processing Record 31 of Set 1 : northam\n",
      "Processing Record 32 of Set 1 : vardo\n",
      "Processing Record 33 of Set 1 : chokurdakh\n",
      "Processing Record 34 of Set 1 : hithadhoo\n",
      "Processing Record 35 of Set 1 : clyde river\n",
      "City not found. Skipping.\n",
      "Processing Record 37 of Set 1 : ponta do sol\n",
      "Processing Record 38 of Set 1 : pisco\n",
      "Processing Record 39 of Set 1 : laguna\n",
      "Processing Record 40 of Set 1 : havre-saint-pierre\n",
      "Processing Record 41 of Set 1 : coihaique\n",
      "Processing Record 42 of Set 1 : port alfred\n",
      "Processing Record 43 of Set 1 : kanaya\n",
      "Processing Record 44 of Set 1 : ambilobe\n",
      "Processing Record 45 of Set 1 : albany\n",
      "City not found. Skipping.\n",
      "Processing Record 47 of Set 1 : pampa\n",
      "City not found. Skipping.\n",
      "Processing Record 49 of Set 1 : carnarvon\n",
      "Processing Record 50 of Set 1 : hastings\n",
      "Processing Record 0 of Set 2 : vaini\n",
      "City not found. Skipping.\n",
      "Processing Record 0 of Set 3 : georgetown\n",
      "Processing Record 0 of Set 4 : plast\n",
      "Processing Record 0 of Set 5 : mataura\n",
      "Processing Record 0 of Set 6 : hofn\n",
      "Processing Record 0 of Set 7 : carballo\n",
      "Processing Record 0 of Set 8 : fomboni\n",
      "Processing Record 0 of Set 9 : punta arenas\n",
      "Processing Record 0 of Set 10 : bredasdorp\n",
      "City not found. Skipping.\n",
      "Processing Record 0 of Set 11 : avarua\n",
      "Processing Record 0 of Set 12 : mahebourg\n",
      "Processing Record 0 of Set 13 : aklavik\n",
      "Processing Record 0 of Set 14 : cherskiy\n",
      "Processing Record 0 of Set 15 : tessalit\n",
      "Processing Record 0 of Set 16 : alamosa\n",
      "Processing Record 0 of Set 17 : kawalu\n",
      "Processing Record 0 of Set 18 : ijui\n",
      "Processing Record 0 of Set 19 : beloha\n",
      "Processing Record 0 of Set 20 : leningradskiy\n",
      "Processing Record 0 of Set 21 : pevek\n",
      "Processing Record 0 of Set 22 : qaanaaq\n",
      "Processing Record 0 of Set 23 : arraial do cabo\n",
      "Processing Record 0 of Set 24 : lebu\n",
      "Processing Record 0 of Set 25 : haines junction\n",
      "Processing Record 0 of Set 26 : brae\n",
      "City not found. Skipping.\n",
      "Processing Record 0 of Set 27 : saint-philippe\n",
      "Processing Record 0 of Set 28 : souris\n",
      "Processing Record 0 of Set 29 : nicoya\n",
      "Processing Record 0 of Set 30 : morehead\n",
      "City not found. Skipping.\n",
      "Processing Record 0 of Set 31 : hay river\n",
      "Processing Record 0 of Set 32 : norman wells\n",
      "Processing Record 0 of Set 33 : novikovo\n",
      "Processing Record 0 of Set 34 : cayenne\n",
      "Processing Record 0 of Set 35 : dingle\n",
      "City not found. Skipping.\n",
      "Processing Record 0 of Set 36 : lake charles\n",
      "Processing Record 0 of Set 37 : victoria\n",
      "City not found. Skipping.\n",
      "Processing Record 0 of Set 38 : puerto ayora\n",
      "Processing Record 0 of Set 39 : devils lake\n",
      "Processing Record 0 of Set 40 : kayerkan\n",
      "Processing Record 0 of Set 41 : tuktoyaktuk\n",
      "Processing Record 0 of Set 42 : saint george\n",
      "Processing Record 0 of Set 43 : valenca do piaui\n",
      "Processing Record 0 of Set 44 : kahului\n",
      "Processing Record 0 of Set 45 : wyndham\n",
      "Processing Record 0 of Set 46 : husavik\n",
      "Processing Record 0 of Set 47 : yar-sale\n",
      "Processing Record 0 of Set 48 : tabalosos\n",
      "Processing Record 0 of Set 49 : shimoda\n",
      "Processing Record 0 of Set 50 : port hardy\n",
      "City not found. Skipping.\n",
      "Processing Record 0 of Set 51 : nikolskoye\n",
      "Processing Record 0 of Set 52 : geraldton\n",
      "Processing Record 0 of Set 53 : kodiak\n",
      "Processing Record 0 of Set 54 : forio\n",
      "Processing Record 0 of Set 55 : itarema\n",
      "City not found. Skipping.\n",
      "Processing Record 0 of Set 56 : tombouctou\n",
      "Processing Record 0 of Set 57 : sitka\n",
      "Processing Record 0 of Set 58 : lavrentiya\n",
      "Processing Record 0 of Set 59 : prince rupert\n",
      "Processing Record 0 of Set 60 : nizip\n",
      "Processing Record 0 of Set 61 : adrar\n",
      "Processing Record 0 of Set 62 : cape town\n",
      "Processing Record 0 of Set 63 : kavieng\n",
      "Processing Record 0 of Set 64 : aljezur\n",
      "Processing Record 0 of Set 65 : dikson\n",
      "Processing Record 0 of Set 66 : ahipara\n",
      "Processing Record 0 of Set 67 : asosa\n",
      "Processing Record 0 of Set 68 : yellowknife\n",
      "Processing Record 0 of Set 69 : mitsamiouli\n",
      "Processing Record 0 of Set 70 : mariental\n",
      "Processing Record 0 of Set 71 : ust-ishim\n",
      "Processing Record 0 of Set 72 : castro\n",
      "Processing Record 0 of Set 73 : provideniya\n",
      "Processing Record 0 of Set 74 : kavaratti\n",
      "Processing Record 0 of Set 75 : jamestown\n",
      "Processing Record 0 of Set 76 : klaksvik\n",
      "Processing Record 0 of Set 77 : elko\n",
      "Processing Record 0 of Set 78 : chuncheng\n",
      "Processing Record 0 of Set 79 : bluff\n",
      "City not found. Skipping.\n",
      "Processing Record 0 of Set 80 : muzhi\n",
      "Processing Record 0 of Set 81 : grindavik\n",
      "Processing Record 0 of Set 82 : iberia\n",
      "Processing Record 0 of Set 83 : tiksi\n",
      "Processing Record 0 of Set 84 : katsuura\n",
      "Processing Record 0 of Set 85 : hobyo\n",
      "Processing Record 0 of Set 86 : san rafael\n",
      "Processing Record 0 of Set 87 : tasiilaq\n",
      "Processing Record 0 of Set 88 : paamiut\n",
      "Processing Record 0 of Set 89 : college\n",
      "Processing Record 0 of Set 90 : hasaki\n",
      "Processing Record 0 of Set 91 : upernavik\n",
      "Processing Record 0 of Set 92 : zeya\n",
      "Processing Record 0 of Set 93 : amapa\n",
      "Processing Record 0 of Set 94 : buala\n",
      "Processing Record 0 of Set 95 : makungu\n",
      "Processing Record 0 of Set 96 : ust-kulom\n",
      "Processing Record 0 of Set 97 : longyearbyen\n",
      "Processing Record 0 of Set 98 : alpena\n",
      "Processing Record 0 of Set 99 : rawson\n",
      "Processing Record 0 of Set 100 : haverfordwest\n",
      "Processing Record 0 of Set 101 : iqaluit\n",
      "Processing Record 0 of Set 102 : chuy\n",
      "Processing Record 0 of Set 103 : souillac\n",
      "Processing Record 0 of Set 104 : kapan\n",
      "Processing Record 0 of Set 105 : bastrop\n",
      "Processing Record 0 of Set 106 : kasongo-lunda\n",
      "Processing Record 0 of Set 107 : pangnirtung\n",
      "Processing Record 0 of Set 108 : el tigre\n",
      "Processing Record 0 of Set 109 : kirakira\n",
      "Processing Record 0 of Set 110 : piravam\n",
      "Processing Record 0 of Set 111 : becerril\n",
      "Processing Record 0 of Set 112 : gizo\n",
      "City not found. Skipping.\n",
      "Processing Record 0 of Set 113 : dhidhdhoo\n",
      "Processing Record 0 of Set 114 : ucluelet\n",
      "Processing Record 0 of Set 115 : sao filipe\n",
      "Processing Record 0 of Set 116 : praia\n",
      "Processing Record 0 of Set 117 : bandarbeyla\n",
      "Processing Record 0 of Set 118 : vila velha\n",
      "Processing Record 0 of Set 119 : khatanga\n",
      "Processing Record 0 of Set 120 : suwannaphum\n",
      "City not found. Skipping.\n",
      "Processing Record 0 of Set 121 : vao\n",
      "Processing Record 0 of Set 122 : praia da vitoria\n",
      "Processing Record 0 of Set 123 : tefe\n",
      "Processing Record 0 of Set 124 : broken hill\n",
      "Processing Record 0 of Set 125 : makakilo city\n",
      "City not found. Skipping.\n",
      "Processing Record 0 of Set 126 : broome\n",
      "City not found. Skipping.\n",
      "Processing Record 0 of Set 127 : lakselv\n",
      "Processing Record 0 of Set 128 : torbay\n",
      "Processing Record 0 of Set 129 : walvis bay\n",
      "Processing Record 0 of Set 130 : ipixuna\n",
      "Processing Record 0 of Set 131 : sao jose da coroa grande\n",
      "Processing Record 0 of Set 132 : kruisfontein\n",
      "Processing Record 0 of Set 133 : san patricio\n",
      "Processing Record 0 of Set 134 : port blair\n",
      "Processing Record 0 of Set 135 : severo-kurilsk\n",
      "Processing Record 0 of Set 136 : san angelo\n",
      "City not found. Skipping.\n",
      "Processing Record 0 of Set 137 : grand gaube\n",
      "Processing Record 0 of Set 138 : tamandare\n",
      "City not found. Skipping.\n",
      "City not found. Skipping.\n",
      "Processing Record 0 of Set 139 : vysokogornyy\n",
      "Processing Record 0 of Set 140 : isla\n",
      "Processing Record 0 of Set 141 : maharajganj\n",
      "Processing Record 0 of Set 142 : yetkul\n"
     ]
    },
    {
     "name": "stdout",
     "output_type": "stream",
     "text": [
      "Processing Record 0 of Set 143 : lorengau\n",
      "Processing Record 0 of Set 144 : ketchikan\n",
      "Processing Record 0 of Set 145 : tuatapere\n",
      "Processing Record 0 of Set 146 : naze\n",
      "Processing Record 0 of Set 147 : muros\n",
      "City not found. Skipping.\n",
      "Processing Record 0 of Set 148 : krasnoselkup\n",
      "Processing Record 0 of Set 149 : fushun\n",
      "Processing Record 0 of Set 150 : hohhot\n",
      "Processing Record 0 of Set 151 : maksatikha\n",
      "City not found. Skipping.\n",
      "Processing Record 0 of Set 152 : vangaindrano\n",
      "Processing Record 0 of Set 153 : jutai\n",
      "Processing Record 0 of Set 154 : rocha\n",
      "Processing Record 0 of Set 155 : baykit\n",
      "Processing Record 0 of Set 156 : golden\n",
      "Processing Record 0 of Set 157 : thai binh\n",
      "Processing Record 0 of Set 158 : olinda\n",
      "Processing Record 0 of Set 159 : tromso\n",
      "Processing Record 0 of Set 160 : nanortalik\n",
      "Processing Record 0 of Set 161 : utete\n",
      "Processing Record 0 of Set 162 : tabuk\n",
      "Processing Record 0 of Set 163 : andijon\n",
      "Processing Record 0 of Set 164 : nouakchott\n",
      "City not found. Skipping.\n",
      "Processing Record 0 of Set 165 : lodja\n",
      "Processing Record 0 of Set 166 : ahuimanu\n",
      "Processing Record 0 of Set 167 : arys\n",
      "Processing Record 0 of Set 168 : saint anthony\n",
      "Processing Record 0 of Set 169 : pitimbu\n",
      "City not found. Skipping.\n",
      "Processing Record 0 of Set 170 : faanui\n",
      "Processing Record 0 of Set 171 : vestmannaeyjar\n",
      "Processing Record 0 of Set 172 : astana\n",
      "Processing Record 0 of Set 173 : mahajanga\n",
      "Processing Record 0 of Set 174 : jiuquan\n",
      "Processing Record 0 of Set 175 : ribeira grande\n",
      "Processing Record 0 of Set 176 : ubatuba\n",
      "Processing Record 0 of Set 177 : sheopur\n",
      "Processing Record 0 of Set 178 : saint-pierre\n",
      "Processing Record 0 of Set 179 : orlik\n",
      "Processing Record 0 of Set 180 : sakyla\n",
      "Processing Record 0 of Set 181 : dalvik\n",
      "City not found. Skipping.\n",
      "Processing Record 0 of Set 182 : talavera de la reina\n",
      "City not found. Skipping.\n",
      "City not found. Skipping.\n",
      "Processing Record 0 of Set 183 : araouane\n",
      "Processing Record 0 of Set 184 : whitehorse\n",
      "Processing Record 0 of Set 185 : thompson\n",
      "Processing Record 0 of Set 186 : bambous virieux\n",
      "Processing Record 0 of Set 187 : the valley\n",
      "Processing Record 0 of Set 188 : sarkand\n",
      "Processing Record 0 of Set 189 : sorong\n",
      "Processing Record 0 of Set 190 : sabang\n",
      "Processing Record 0 of Set 191 : hellvik\n",
      "Processing Record 0 of Set 192 : asau\n",
      "Processing Record 0 of Set 193 : deputatskiy\n",
      "Processing Record 0 of Set 194 : jeremoabo\n",
      "City not found. Skipping.\n",
      "Processing Record 0 of Set 195 : bonthe\n",
      "Processing Record 0 of Set 196 : roseburg\n",
      "Processing Record 0 of Set 197 : baganga\n",
      "City not found. Skipping.\n",
      "City not found. Skipping.\n",
      "Processing Record 0 of Set 198 : guisa\n",
      "Processing Record 0 of Set 199 : evans\n",
      "Processing Record 0 of Set 200 : torrington\n",
      "City not found. Skipping.\n",
      "Processing Record 0 of Set 201 : hudson bay\n",
      "Processing Record 0 of Set 202 : kaiyuan\n",
      "Processing Record 0 of Set 203 : roma\n",
      "Processing Record 0 of Set 204 : acapulco\n",
      "City not found. Skipping.\n",
      "Processing Record 0 of Set 205 : zhicheng\n",
      "Processing Record 0 of Set 206 : camana\n",
      "Processing Record 0 of Set 207 : foumban\n",
      "Processing Record 0 of Set 208 : nanning\n",
      "Processing Record 0 of Set 209 : henties bay\n",
      "Processing Record 0 of Set 210 : ardahan\n",
      "Processing Record 0 of Set 211 : goderich\n",
      "Processing Record 0 of Set 212 : ibra\n",
      "City not found. Skipping.\n",
      "Processing Record 0 of Set 213 : shenjiamen\n",
      "Processing Record 0 of Set 214 : otjimbingwe\n",
      "Processing Record 0 of Set 215 : saskylakh\n",
      "Processing Record 0 of Set 216 : kang\n",
      "Processing Record 0 of Set 217 : narsaq\n",
      "Processing Record 0 of Set 218 : kenai\n",
      "Processing Record 0 of Set 219 : cuenca\n",
      "Processing Record 0 of Set 220 : poum\n",
      "Processing Record 0 of Set 221 : constitucion\n",
      "Processing Record 0 of Set 222 : alta floresta\n",
      "Processing Record 0 of Set 223 : balikpapan\n",
      "Processing Record 0 of Set 224 : port moresby\n",
      "Processing Record 0 of Set 225 : bolokhovo\n",
      "Processing Record 0 of Set 226 : san luis\n",
      "Processing Record 0 of Set 227 : ostrovnoy\n",
      "Processing Record 0 of Set 228 : rudiskes\n",
      "Processing Record 0 of Set 229 : ilulissat\n",
      "Processing Record 0 of Set 230 : tahoua\n",
      "Processing Record 0 of Set 231 : luderitz\n",
      "Processing Record 0 of Set 232 : cabo san lucas\n",
      "Processing Record 0 of Set 233 : bengkulu\n",
      "Processing Record 0 of Set 234 : boende\n",
      "Processing Record 0 of Set 235 : lucapa\n",
      "Processing Record 0 of Set 236 : yulara\n",
      "City not found. Skipping.\n",
      "Processing Record 0 of Set 237 : westport\n",
      "Processing Record 0 of Set 238 : inhambane\n",
      "Processing Record 0 of Set 239 : maldonado\n",
      "Processing Record 0 of Set 240 : sainte-marie\n",
      "City not found. Skipping.\n",
      "Processing Record 0 of Set 241 : mbanza-ngungu\n",
      "Processing Record 0 of Set 242 : east london\n",
      "Processing Record 0 of Set 243 : key west\n",
      "Processing Record 0 of Set 244 : lalibela\n",
      "Processing Record 0 of Set 245 : medea\n",
      "Processing Record 0 of Set 246 : haimen\n",
      "Processing Record 0 of Set 247 : itaituba\n",
      "Processing Record 0 of Set 248 : guerrero negro\n",
      "Processing Record 0 of Set 249 : khandyga\n",
      "Processing Record 0 of Set 250 : tecoanapa\n",
      "Processing Record 0 of Set 251 : beauly\n",
      "Processing Record 0 of Set 252 : tura\n",
      "Processing Record 0 of Set 253 : mehamn\n",
      "Processing Record 0 of Set 254 : zhuanghe\n",
      "Processing Record 0 of Set 255 : alofi\n",
      "Processing Record 0 of Set 256 : cervo\n",
      "City not found. Skipping.\n",
      "Processing Record 0 of Set 257 : mogadishu\n",
      "City not found. Skipping.\n",
      "Processing Record 0 of Set 258 : oudtshoorn\n",
      "Processing Record 0 of Set 259 : xinon neron\n",
      "Processing Record 0 of Set 260 : verkhnevilyuysk\n",
      "Processing Record 0 of Set 261 : riyadh\n",
      "Processing Record 0 of Set 262 : taoudenni\n",
      "Processing Record 0 of Set 263 : touros\n",
      "Processing Record 0 of Set 264 : kattivakkam\n",
      "Processing Record 0 of Set 265 : avera\n",
      "Processing Record 0 of Set 266 : usinsk\n",
      "Processing Record 0 of Set 267 : san cristobal\n",
      "City not found. Skipping.\n",
      "Processing Record 0 of Set 268 : saldanha\n",
      "Processing Record 0 of Set 269 : marsa matruh\n",
      "Processing Record 0 of Set 270 : nhulunbuy\n",
      "Processing Record 0 of Set 271 : hambantota\n",
      "Processing Record 0 of Set 272 : tezu\n",
      "Processing Record 0 of Set 273 : tianpeng\n",
      "Processing Record 0 of Set 274 : port macquarie\n",
      "Processing Record 0 of Set 275 : bernalillo\n",
      "Processing Record 0 of Set 276 : ndele\n",
      "Processing Record 0 of Set 277 : flin flon\n",
      "Processing Record 0 of Set 278 : arman\n",
      "Processing Record 0 of Set 279 : samarai\n",
      "Processing Record 0 of Set 280 : itanhaem\n",
      "Processing Record 0 of Set 281 : isangel\n",
      "Processing Record 0 of Set 282 : middletown\n",
      "City not found. Skipping.\n",
      "Processing Record 0 of Set 283 : salalah\n",
      "Processing Record 0 of Set 284 : lasa\n",
      "City not found. Skipping.\n",
      "Processing Record 0 of Set 285 : laredo\n",
      "City not found. Skipping.\n",
      "Processing Record 0 of Set 286 : marystown\n",
      "Processing Record 0 of Set 287 : assiniboia\n",
      "Processing Record 0 of Set 288 : palmer\n",
      "Processing Record 0 of Set 289 : kontagora\n",
      "Processing Record 0 of Set 290 : warwick\n",
      "Processing Record 0 of Set 291 : mto wa mbu\n",
      "City not found. Skipping.\n",
      "Processing Record 0 of Set 292 : bakel\n",
      "Processing Record 0 of Set 293 : chapais\n",
      "Processing Record 0 of Set 294 : half moon bay\n",
      "City not found. Skipping.\n",
      "Processing Record 0 of Set 295 : balclutha\n",
      "Processing Record 0 of Set 296 : vila franca do campo\n",
      "Processing Record 0 of Set 297 : edgewater\n",
      "Processing Record 0 of Set 298 : yining\n",
      "City not found. Skipping.\n",
      "Processing Record 0 of Set 299 : port-gentil\n",
      "Processing Record 0 of Set 300 : komsomolskiy\n",
      "Processing Record 0 of Set 301 : boguchany\n",
      "Processing Record 0 of Set 302 : estacion coahuila\n",
      "Processing Record 0 of Set 303 : ixtapa\n",
      "Processing Record 0 of Set 304 : port lincoln\n",
      "Processing Record 0 of Set 305 : voh\n",
      "Processing Record 0 of Set 306 : jieshi\n",
      "Processing Record 0 of Set 307 : san felipe\n",
      "Processing Record 0 of Set 308 : hamilton\n",
      "Processing Record 0 of Set 309 : srednekolymsk\n",
      "Processing Record 0 of Set 310 : polis\n",
      "Processing Record 0 of Set 311 : anshun\n",
      "Processing Record 0 of Set 312 : nelson bay\n",
      "Processing Record 0 of Set 313 : brainerd\n",
      "Processing Record 0 of Set 314 : esperance\n",
      "Processing Record 0 of Set 315 : finnsnes\n",
      "Processing Record 0 of Set 316 : verkhoyansk\n",
      "City not found. Skipping.\n",
      "Processing Record 0 of Set 317 : charters towers\n",
      "Processing Record 0 of Set 318 : akureyri\n",
      "Processing Record 0 of Set 319 : murray bridge\n",
      "Processing Record 0 of Set 320 : voyvozh\n",
      "Processing Record 0 of Set 321 : zakamensk\n"
     ]
    },
    {
     "name": "stdout",
     "output_type": "stream",
     "text": [
      "Processing Record 0 of Set 322 : anadyr\n",
      "City not found. Skipping.\n",
      "Processing Record 0 of Set 323 : nalut\n",
      "City not found. Skipping.\n",
      "Processing Record 0 of Set 324 : bathsheba\n",
      "Processing Record 0 of Set 325 : gourcy\n",
      "Processing Record 0 of Set 326 : leua\n",
      "Processing Record 0 of Set 327 : maniitsoq\n",
      "Processing Record 0 of Set 328 : dwarka\n",
      "Processing Record 0 of Set 329 : mumford\n",
      "Processing Record 0 of Set 330 : orotukan\n",
      "Processing Record 0 of Set 331 : znamenskoye\n",
      "Processing Record 0 of Set 332 : mnogovershinnyy\n",
      "Processing Record 0 of Set 333 : tapejara\n",
      "Processing Record 0 of Set 334 : juneau\n",
      "Processing Record 0 of Set 335 : krasnozerskoye\n",
      "Processing Record 0 of Set 336 : sola\n",
      "Processing Record 0 of Set 337 : luau\n",
      "Processing Record 0 of Set 338 : labuhan\n",
      "Processing Record 0 of Set 339 : bardoli\n",
      "Processing Record 0 of Set 340 : sena madureira\n",
      "Processing Record 0 of Set 341 : valparaiso\n",
      "Processing Record 0 of Set 342 : jardim\n",
      "Processing Record 0 of Set 343 : progreso\n",
      "Processing Record 0 of Set 344 : hue\n",
      "Processing Record 0 of Set 345 : borogontsy\n",
      "Processing Record 0 of Set 346 : moerai\n",
      "Processing Record 0 of Set 347 : porto novo\n",
      "City not found. Skipping.\n",
      "City not found. Skipping.\n",
      "Processing Record 0 of Set 348 : lagoa\n",
      "Processing Record 0 of Set 349 : la ronge\n",
      "Processing Record 0 of Set 350 : fond du lac\n",
      "Processing Record 0 of Set 351 : bud\n",
      "Processing Record 0 of Set 352 : el porvenir\n",
      "Processing Record 0 of Set 353 : gazojak\n",
      "Processing Record 0 of Set 354 : waren\n",
      "Processing Record 0 of Set 355 : flinders\n",
      "Processing Record 0 of Set 356 : baoqing\n",
      "Processing Record 0 of Set 357 : lyuban\n",
      "Processing Record 0 of Set 358 : inirida\n",
      "Processing Record 0 of Set 359 : jalu\n",
      "Processing Record 0 of Set 360 : lagunas\n",
      "Processing Record 0 of Set 361 : assai\n",
      "City not found. Skipping.\n",
      "Processing Record 0 of Set 362 : tirumullaivasal\n",
      "Processing Record 0 of Set 363 : ulladulla\n",
      "Processing Record 0 of Set 364 : berdigestyakh\n",
      "Processing Record 0 of Set 365 : bintulu\n",
      "Processing Record 0 of Set 366 : cockburn town\n",
      "Processing Record 0 of Set 367 : sfantu gheorghe\n",
      "Processing Record 0 of Set 368 : blagoyevo\n",
      "Processing Record 0 of Set 369 : quito\n",
      "Processing Record 0 of Set 370 : fallon\n",
      "Processing Record 0 of Set 371 : la reforma\n",
      "Processing Record 0 of Set 372 : fairbanks\n",
      "Processing Record 0 of Set 373 : ankara\n",
      "Processing Record 0 of Set 374 : cam ranh\n",
      "Processing Record 0 of Set 375 : teseney\n",
      "Processing Record 0 of Set 376 : rio gallegos\n",
      "Processing Record 0 of Set 377 : shakiso\n",
      "Processing Record 0 of Set 378 : tukrah\n",
      "Processing Record 0 of Set 379 : payson\n",
      "Processing Record 0 of Set 380 : eastlake\n",
      "Processing Record 0 of Set 381 : ginda\n",
      "Processing Record 0 of Set 382 : comodoro rivadavia\n",
      "Processing Record 0 of Set 383 : xining\n",
      "Processing Record 0 of Set 384 : bilibino\n",
      "Processing Record 0 of Set 385 : villa carlos paz\n",
      "Processing Record 0 of Set 386 : buchanan\n",
      "Processing Record 0 of Set 387 : khvalynsk\n",
      "Processing Record 0 of Set 388 : karratha\n",
      "Processing Record 0 of Set 389 : ternate\n",
      "Processing Record 0 of Set 390 : boulder city\n",
      "Processing Record 0 of Set 391 : anloga\n",
      "City not found. Skipping.\n",
      "Processing Record 0 of Set 392 : te anau\n",
      "Processing Record 0 of Set 393 : kloulklubed\n",
      "Processing Record 0 of Set 394 : shingu\n",
      "Processing Record 0 of Set 395 : kilindoni\n",
      "Processing Record 0 of Set 396 : shagonar\n",
      "Processing Record 0 of Set 397 : hengshui\n",
      "Processing Record 0 of Set 398 : sinop\n",
      "Processing Record 0 of Set 399 : bethel\n",
      "Processing Record 0 of Set 400 : sirohi\n",
      "Processing Record 0 of Set 401 : katima mulilo\n",
      "City not found. Skipping.\n",
      "Processing Record 0 of Set 402 : durazno\n",
      "Processing Record 0 of Set 403 : ciudad bolivar\n",
      "Processing Record 0 of Set 404 : sangar\n",
      "Processing Record 0 of Set 405 : namibe\n",
      "Processing Record 0 of Set 406 : calama\n",
      "Processing Record 0 of Set 407 : manono\n",
      "Processing Record 0 of Set 408 : letlhakeng\n",
      "Processing Record 0 of Set 409 : sale\n",
      "Processing Record 0 of Set 410 : haradok\n",
      "Processing Record 0 of Set 411 : sharan\n",
      "City not found. Skipping.\n",
      "City not found. Skipping.\n",
      "Processing Record 0 of Set 412 : vostok\n",
      "Processing Record 0 of Set 413 : wajima\n",
      "Processing Record 0 of Set 414 : harper\n",
      "City not found. Skipping.\n",
      "Processing Record 0 of Set 415 : manavalakurichi\n",
      "Processing Record 0 of Set 416 : raudeberg\n",
      "Processing Record 0 of Set 417 : cidreira\n",
      "Processing Record 0 of Set 418 : takoradi\n",
      "Processing Record 0 of Set 419 : erzin\n",
      "City not found. Skipping.\n",
      "Processing Record 0 of Set 420 : el vigia\n",
      "City not found. Skipping.\n",
      "Processing Record 0 of Set 421 : mecca\n",
      "Processing Record 0 of Set 422 : lewiston\n",
      "Processing Record 0 of Set 423 : naron\n",
      "Processing Record 0 of Set 424 : vanimo\n",
      "Processing Record 0 of Set 425 : svetlogorsk\n",
      "Processing Record 0 of Set 426 : balsas\n",
      "Processing Record 0 of Set 427 : fengcheng\n",
      "City not found. Skipping.\n",
      "Processing Record 0 of Set 428 : lompoc\n",
      "Processing Record 0 of Set 429 : natalinsk\n",
      "Processing Record 0 of Set 430 : eucaliptus\n",
      "Processing Record 0 of Set 431 : lanigan\n",
      "Processing Record 0 of Set 432 : dengzhou\n",
      "Processing Record 0 of Set 433 : rio grande\n",
      "Processing Record 0 of Set 434 : grimshaw\n",
      "Processing Record 0 of Set 435 : berezovka\n",
      "Processing Record 0 of Set 436 : fengzhen\n",
      "Processing Record 0 of Set 437 : shache\n",
      "Processing Record 0 of Set 438 : makat\n",
      "Processing Record 0 of Set 439 : airai\n",
      "Processing Record 0 of Set 440 : manta\n",
      "Processing Record 0 of Set 441 : semirara\n",
      "Processing Record 0 of Set 442 : bijie\n",
      "Processing Record 0 of Set 443 : panguna\n",
      "Processing Record 0 of Set 444 : haapiti\n",
      "Processing Record 0 of Set 445 : norden\n",
      "Processing Record 0 of Set 446 : champasak\n",
      "Processing Record 0 of Set 447 : menongue\n",
      "Processing Record 0 of Set 448 : grand-lahou\n",
      "Processing Record 0 of Set 449 : udachnyy\n",
      "City not found. Skipping.\n",
      "Processing Record 0 of Set 450 : lake cowichan\n",
      "Processing Record 0 of Set 451 : thinadhoo\n",
      "Processing Record 0 of Set 452 : cap malheureux\n",
      "Processing Record 0 of Set 453 : manokwari\n",
      "Processing Record 0 of Set 454 : beringovskiy\n",
      "Processing Record 0 of Set 455 : barahona\n",
      "Processing Record 0 of Set 456 : bairiki\n",
      "Processing Record 0 of Set 457 : san isidro\n",
      "Processing Record 0 of Set 458 : honningsvag\n",
      "City not found. Skipping.\n",
      "Processing Record 0 of Set 459 : sao geraldo do araguaia\n",
      "Processing Record 0 of Set 460 : kodinsk\n",
      "Processing Record 0 of Set 461 : sayyan\n",
      "City not found. Skipping.\n",
      "Processing Record 0 of Set 462 : santa rosa\n",
      "Processing Record 0 of Set 463 : kautokeino\n",
      "Processing Record 0 of Set 464 : groningen\n",
      "Processing Record 0 of Set 465 : plainview\n",
      "Processing Record 0 of Set 466 : tayu\n",
      "Processing Record 0 of Set 467 : zorgo\n",
      "Processing Record 0 of Set 468 : storsteinnes\n",
      "Processing Record 0 of Set 469 : bilma\n",
      "Processing Record 0 of Set 470 : dekar\n",
      "Processing Record 0 of Set 471 : vagur\n",
      "Processing Record 0 of Set 472 : ontario\n",
      "Processing Record 0 of Set 473 : homestead\n",
      "Processing Record 0 of Set 474 : port keats\n",
      "Processing Record 0 of Set 475 : los llanos de aridane\n",
      "Processing Record 0 of Set 476 : wobulenzi\n",
      "Processing Record 0 of Set 477 : inta\n",
      "Processing Record 0 of Set 478 : zyryanka\n",
      "Processing Record 0 of Set 479 : arapiraca\n",
      "Processing Record 0 of Set 480 : sibu\n",
      "Processing Record 0 of Set 481 : daru\n",
      "Processing Record 0 of Set 482 : tshikapa\n",
      "Processing Record 0 of Set 483 : maceio\n",
      "Processing Record 0 of Set 484 : surat\n",
      "Processing Record 0 of Set 485 : teguise\n",
      "Processing Record 0 of Set 486 : fort-shevchenko\n",
      "Processing Record 0 of Set 487 : kenmare\n",
      "Processing Record 0 of Set 488 : zboriv\n",
      "Processing Record 0 of Set 489 : kaberamaido\n",
      "City not found. Skipping.\n",
      "Processing Record 0 of Set 490 : coos bay\n",
      "Processing Record 0 of Set 491 : quatre cocos\n",
      "Processing Record 0 of Set 492 : moron\n",
      "Processing Record 0 of Set 493 : sarangani\n",
      "Processing Record 0 of Set 494 : isaka\n",
      "Processing Record 0 of Set 495 : sampit\n",
      "Processing Record 0 of Set 496 : dali\n",
      "Processing Record 0 of Set 497 : hovd\n",
      "Processing Record 0 of Set 498 : tsabong\n",
      "Processing Record 0 of Set 499 : porbandar\n",
      "-----------------------\n",
      "Data Retrieval Complete\n",
      "-----------------------\n"
     ]
    }
   ],
   "source": [
    "print(\"-------------------------\") \n",
    "print(\"Beginning Data Retrieval \")\n",
    "print(\"-------------------------\") \n",
    "\n",
    "url = \"http://api.openweathermap.org/data/2.5/weather?\"\n",
    "units = \"imperial\"\n",
    "weather_url = f'{url}appid={weather_api_key}&units={units}&q='\n",
    "\n",
    "for index, city in enumerate(cities, start = 1):\n",
    "    try:\n",
    "        response = requests.get(weather_url + city).json()\n",
    "        city_list.append(response[\"name\"])\n",
    "        cloudy_list.append(response[\"clouds\"][\"all\"])\n",
    "        country_list.append(response[\"sys\"][\"country\"])\n",
    "        date_list.append(response[\"dt\"])\n",
    "        humidity_list.append(response[\"main\"][\"humidity\"])\n",
    "        lat_list.append(response[\"coord\"][\"lat\"])\n",
    "        lng_list.append(response[\"coord\"][\"lon\"])\n",
    "        max_temp_list.append(response['main']['temp_max'])\n",
    "        wind_speed_list.append(response[\"wind\"][\"speed\"])\n",
    "        \n",
    "        if index > 49:\n",
    "            index = 0\n",
    "            counter = counter + 1\n",
    "        else:\n",
    "            index = index + 1\n",
    "            \n",
    "        print(f\"Processing Record {index} of Set {counter} : {city}\")\n",
    "   \n",
    "    except(KeyError, IndexError):\n",
    "        print(\"City not found. Skipping.\")\n",
    "        \n",
    "print(\"-----------------------\")\n",
    "print(\"Data Retrieval Complete\")\n",
    "print(\"-----------------------\")"
   ]
  },
  {
   "cell_type": "markdown",
   "metadata": {},
   "source": [
    "### Convert Raw Data to DataFrame\n",
    "* Export the city data into a .csv.\n",
    "* Display the DataFrame"
   ]
  },
  {
   "cell_type": "code",
   "execution_count": 61,
   "metadata": {},
   "outputs": [
    {
     "data": {
      "text/html": [
       "<div>\n",
       "<style scoped>\n",
       "    .dataframe tbody tr th:only-of-type {\n",
       "        vertical-align: middle;\n",
       "    }\n",
       "\n",
       "    .dataframe tbody tr th {\n",
       "        vertical-align: top;\n",
       "    }\n",
       "\n",
       "    .dataframe thead th {\n",
       "        text-align: right;\n",
       "    }\n",
       "</style>\n",
       "<table border=\"1\" class=\"dataframe\">\n",
       "  <thead>\n",
       "    <tr style=\"text-align: right;\">\n",
       "      <th></th>\n",
       "      <th>City</th>\n",
       "      <th>Lat</th>\n",
       "      <th>Lng</th>\n",
       "      <th>Max Temp</th>\n",
       "      <th>Humidity</th>\n",
       "      <th>Wind Speed</th>\n",
       "      <th>Cloudiness</th>\n",
       "      <th>Country</th>\n",
       "      <th>Date</th>\n",
       "    </tr>\n",
       "  </thead>\n",
       "  <tbody>\n",
       "    <tr>\n",
       "      <th>0</th>\n",
       "      <td>Hermanus</td>\n",
       "      <td>-34.4187</td>\n",
       "      <td>19.2345</td>\n",
       "      <td>62.01</td>\n",
       "      <td>86</td>\n",
       "      <td>1.01</td>\n",
       "      <td>67</td>\n",
       "      <td>ZA</td>\n",
       "      <td>1619482993</td>\n",
       "    </tr>\n",
       "    <tr>\n",
       "      <th>1</th>\n",
       "      <td>Rikitea</td>\n",
       "      <td>-23.1203</td>\n",
       "      <td>-134.9692</td>\n",
       "      <td>78.06</td>\n",
       "      <td>72</td>\n",
       "      <td>7.99</td>\n",
       "      <td>72</td>\n",
       "      <td>PF</td>\n",
       "      <td>1619483042</td>\n",
       "    </tr>\n",
       "    <tr>\n",
       "      <th>2</th>\n",
       "      <td>Faya</td>\n",
       "      <td>18.3851</td>\n",
       "      <td>42.4509</td>\n",
       "      <td>59.00</td>\n",
       "      <td>82</td>\n",
       "      <td>3.29</td>\n",
       "      <td>0</td>\n",
       "      <td>SA</td>\n",
       "      <td>1619483043</td>\n",
       "    </tr>\n",
       "    <tr>\n",
       "      <th>3</th>\n",
       "      <td>Margate</td>\n",
       "      <td>51.3813</td>\n",
       "      <td>1.3862</td>\n",
       "      <td>44.01</td>\n",
       "      <td>81</td>\n",
       "      <td>1.01</td>\n",
       "      <td>100</td>\n",
       "      <td>GB</td>\n",
       "      <td>1619482967</td>\n",
       "    </tr>\n",
       "    <tr>\n",
       "      <th>4</th>\n",
       "      <td>Mar del Plata</td>\n",
       "      <td>-38.0023</td>\n",
       "      <td>-57.5575</td>\n",
       "      <td>54.00</td>\n",
       "      <td>93</td>\n",
       "      <td>4.09</td>\n",
       "      <td>1</td>\n",
       "      <td>AR</td>\n",
       "      <td>1619482915</td>\n",
       "    </tr>\n",
       "  </tbody>\n",
       "</table>\n",
       "</div>"
      ],
      "text/plain": [
       "            City      Lat       Lng  Max Temp  Humidity  Wind Speed  \\\n",
       "0       Hermanus -34.4187   19.2345     62.01        86        1.01   \n",
       "1        Rikitea -23.1203 -134.9692     78.06        72        7.99   \n",
       "2           Faya  18.3851   42.4509     59.00        82        3.29   \n",
       "3        Margate  51.3813    1.3862     44.01        81        1.01   \n",
       "4  Mar del Plata -38.0023  -57.5575     54.00        93        4.09   \n",
       "\n",
       "   Cloudiness Country        Date  \n",
       "0          67      ZA  1619482993  \n",
       "1          72      PF  1619483042  \n",
       "2           0      SA  1619483043  \n",
       "3         100      GB  1619482967  \n",
       "4           1      AR  1619482915  "
      ]
     },
     "execution_count": 61,
     "metadata": {},
     "output_type": "execute_result"
    }
   ],
   "source": [
    "weather_data = pd.DataFrame({\"City\": city_list,\n",
    "                            \"Lat\": lat_list,\n",
    "                            \"Lng\": lng_list,\n",
    "                            \"Max Temp\": max_temp_list,\n",
    "                            \"Humidity\": humidity_list,\n",
    "                            \"Wind Speed\": wind_speed_list,\n",
    "                            \"Cloudiness\":cloudy_list,\n",
    "                            \"Country\": country_list,\n",
    "                            \"Date\": date_list\n",
    "                            })\n",
    "weather_data.head()"
   ]
  },
  {
   "cell_type": "code",
   "execution_count": 62,
   "metadata": {},
   "outputs": [
    {
     "data": {
      "text/html": [
       "<div>\n",
       "<style scoped>\n",
       "    .dataframe tbody tr th:only-of-type {\n",
       "        vertical-align: middle;\n",
       "    }\n",
       "\n",
       "    .dataframe tbody tr th {\n",
       "        vertical-align: top;\n",
       "    }\n",
       "\n",
       "    .dataframe thead th {\n",
       "        text-align: right;\n",
       "    }\n",
       "</style>\n",
       "<table border=\"1\" class=\"dataframe\">\n",
       "  <thead>\n",
       "    <tr style=\"text-align: right;\">\n",
       "      <th></th>\n",
       "      <th>City</th>\n",
       "      <th>Lat</th>\n",
       "      <th>Lng</th>\n",
       "      <th>Max Temp</th>\n",
       "      <th>Humidity</th>\n",
       "      <th>Wind Speed</th>\n",
       "      <th>Cloudiness</th>\n",
       "      <th>Country</th>\n",
       "      <th>Date</th>\n",
       "    </tr>\n",
       "  </thead>\n",
       "  <tbody>\n",
       "    <tr>\n",
       "      <th>0</th>\n",
       "      <td>Hermanus</td>\n",
       "      <td>-34.4187</td>\n",
       "      <td>19.2345</td>\n",
       "      <td>62.01</td>\n",
       "      <td>86</td>\n",
       "      <td>1.01</td>\n",
       "      <td>67</td>\n",
       "      <td>ZA</td>\n",
       "      <td>1619482993</td>\n",
       "    </tr>\n",
       "    <tr>\n",
       "      <th>1</th>\n",
       "      <td>Rikitea</td>\n",
       "      <td>-23.1203</td>\n",
       "      <td>-134.9692</td>\n",
       "      <td>78.06</td>\n",
       "      <td>72</td>\n",
       "      <td>7.99</td>\n",
       "      <td>72</td>\n",
       "      <td>PF</td>\n",
       "      <td>1619483042</td>\n",
       "    </tr>\n",
       "    <tr>\n",
       "      <th>2</th>\n",
       "      <td>Faya</td>\n",
       "      <td>18.3851</td>\n",
       "      <td>42.4509</td>\n",
       "      <td>59.00</td>\n",
       "      <td>82</td>\n",
       "      <td>3.29</td>\n",
       "      <td>0</td>\n",
       "      <td>SA</td>\n",
       "      <td>1619483043</td>\n",
       "    </tr>\n",
       "    <tr>\n",
       "      <th>3</th>\n",
       "      <td>Margate</td>\n",
       "      <td>51.3813</td>\n",
       "      <td>1.3862</td>\n",
       "      <td>44.01</td>\n",
       "      <td>81</td>\n",
       "      <td>1.01</td>\n",
       "      <td>100</td>\n",
       "      <td>GB</td>\n",
       "      <td>1619482967</td>\n",
       "    </tr>\n",
       "    <tr>\n",
       "      <th>4</th>\n",
       "      <td>Mar del Plata</td>\n",
       "      <td>-38.0023</td>\n",
       "      <td>-57.5575</td>\n",
       "      <td>54.00</td>\n",
       "      <td>93</td>\n",
       "      <td>4.09</td>\n",
       "      <td>1</td>\n",
       "      <td>AR</td>\n",
       "      <td>1619482915</td>\n",
       "    </tr>\n",
       "  </tbody>\n",
       "</table>\n",
       "</div>"
      ],
      "text/plain": [
       "            City      Lat       Lng  Max Temp  Humidity  Wind Speed  \\\n",
       "0       Hermanus -34.4187   19.2345     62.01        86        1.01   \n",
       "1        Rikitea -23.1203 -134.9692     78.06        72        7.99   \n",
       "2           Faya  18.3851   42.4509     59.00        82        3.29   \n",
       "3        Margate  51.3813    1.3862     44.01        81        1.01   \n",
       "4  Mar del Plata -38.0023  -57.5575     54.00        93        4.09   \n",
       "\n",
       "   Cloudiness Country        Date  \n",
       "0          67      ZA  1619482993  \n",
       "1          72      PF  1619483042  \n",
       "2           0      SA  1619483043  \n",
       "3         100      GB  1619482967  \n",
       "4           1      AR  1619482915  "
      ]
     },
     "execution_count": 62,
     "metadata": {},
     "output_type": "execute_result"
    }
   ],
   "source": [
    "weather_data.to_csv('../output_data/weather_data.csv')\n",
    "weather_data.head()"
   ]
  },
  {
   "cell_type": "code",
   "execution_count": 63,
   "metadata": {},
   "outputs": [
    {
     "data": {
      "text/plain": [
       "100"
      ]
     },
     "execution_count": 63,
     "metadata": {},
     "output_type": "execute_result"
    }
   ],
   "source": [
    "weather_data['Humidity'].max()"
   ]
  },
  {
   "cell_type": "markdown",
   "metadata": {},
   "source": [
    "## Inspect the data and remove the cities where the humidity > 100%.\n",
    "----\n",
    "Skip this step if there are no cities that have humidity > 100%. "
   ]
  },
  {
   "cell_type": "code",
   "execution_count": 6,
   "metadata": {
    "collapsed": true
   },
   "outputs": [
    {
     "data": {
      "text/html": [
       "<div>\n",
       "<style scoped>\n",
       "    .dataframe tbody tr th:only-of-type {\n",
       "        vertical-align: middle;\n",
       "    }\n",
       "\n",
       "    .dataframe tbody tr th {\n",
       "        vertical-align: top;\n",
       "    }\n",
       "\n",
       "    .dataframe thead th {\n",
       "        text-align: right;\n",
       "    }\n",
       "</style>\n",
       "<table border=\"1\" class=\"dataframe\">\n",
       "  <thead>\n",
       "    <tr style=\"text-align: right;\">\n",
       "      <th></th>\n",
       "      <th>Lat</th>\n",
       "      <th>Lng</th>\n",
       "      <th>Max Temp</th>\n",
       "      <th>Humidity</th>\n",
       "      <th>Cloudiness</th>\n",
       "      <th>Wind Speed</th>\n",
       "      <th>Date</th>\n",
       "    </tr>\n",
       "  </thead>\n",
       "  <tbody>\n",
       "    <tr>\n",
       "      <th>count</th>\n",
       "      <td>550.000000</td>\n",
       "      <td>550.000000</td>\n",
       "      <td>550.000000</td>\n",
       "      <td>550.000000</td>\n",
       "      <td>550.000000</td>\n",
       "      <td>550.000000</td>\n",
       "      <td>5.500000e+02</td>\n",
       "    </tr>\n",
       "    <tr>\n",
       "      <th>mean</th>\n",
       "      <td>19.973545</td>\n",
       "      <td>17.124400</td>\n",
       "      <td>58.331400</td>\n",
       "      <td>67.890909</td>\n",
       "      <td>52.141818</td>\n",
       "      <td>8.544800</td>\n",
       "      <td>1.585764e+09</td>\n",
       "    </tr>\n",
       "    <tr>\n",
       "      <th>std</th>\n",
       "      <td>33.284840</td>\n",
       "      <td>91.595451</td>\n",
       "      <td>25.795297</td>\n",
       "      <td>20.864881</td>\n",
       "      <td>35.766469</td>\n",
       "      <td>6.078869</td>\n",
       "      <td>5.539674e+01</td>\n",
       "    </tr>\n",
       "    <tr>\n",
       "      <th>min</th>\n",
       "      <td>-54.800000</td>\n",
       "      <td>-179.170000</td>\n",
       "      <td>-11.340000</td>\n",
       "      <td>9.000000</td>\n",
       "      <td>0.000000</td>\n",
       "      <td>0.160000</td>\n",
       "      <td>1.585764e+09</td>\n",
       "    </tr>\n",
       "    <tr>\n",
       "      <th>25%</th>\n",
       "      <td>-8.077500</td>\n",
       "      <td>-64.627500</td>\n",
       "      <td>42.800000</td>\n",
       "      <td>55.000000</td>\n",
       "      <td>20.000000</td>\n",
       "      <td>4.525000</td>\n",
       "      <td>1.585764e+09</td>\n",
       "    </tr>\n",
       "    <tr>\n",
       "      <th>50%</th>\n",
       "      <td>23.630000</td>\n",
       "      <td>19.635000</td>\n",
       "      <td>64.940000</td>\n",
       "      <td>72.000000</td>\n",
       "      <td>57.000000</td>\n",
       "      <td>7.325000</td>\n",
       "      <td>1.585764e+09</td>\n",
       "    </tr>\n",
       "    <tr>\n",
       "      <th>75%</th>\n",
       "      <td>48.672500</td>\n",
       "      <td>97.350000</td>\n",
       "      <td>78.800000</td>\n",
       "      <td>83.000000</td>\n",
       "      <td>86.750000</td>\n",
       "      <td>11.410000</td>\n",
       "      <td>1.585764e+09</td>\n",
       "    </tr>\n",
       "    <tr>\n",
       "      <th>max</th>\n",
       "      <td>78.220000</td>\n",
       "      <td>179.320000</td>\n",
       "      <td>102.200000</td>\n",
       "      <td>100.000000</td>\n",
       "      <td>100.000000</td>\n",
       "      <td>46.080000</td>\n",
       "      <td>1.585764e+09</td>\n",
       "    </tr>\n",
       "  </tbody>\n",
       "</table>\n",
       "</div>"
      ],
      "text/plain": [
       "              Lat         Lng    Max Temp    Humidity  Cloudiness  Wind Speed  \\\n",
       "count  550.000000  550.000000  550.000000  550.000000  550.000000  550.000000   \n",
       "mean    19.973545   17.124400   58.331400   67.890909   52.141818    8.544800   \n",
       "std     33.284840   91.595451   25.795297   20.864881   35.766469    6.078869   \n",
       "min    -54.800000 -179.170000  -11.340000    9.000000    0.000000    0.160000   \n",
       "25%     -8.077500  -64.627500   42.800000   55.000000   20.000000    4.525000   \n",
       "50%     23.630000   19.635000   64.940000   72.000000   57.000000    7.325000   \n",
       "75%     48.672500   97.350000   78.800000   83.000000   86.750000   11.410000   \n",
       "max     78.220000  179.320000  102.200000  100.000000  100.000000   46.080000   \n",
       "\n",
       "               Date  \n",
       "count  5.500000e+02  \n",
       "mean   1.585764e+09  \n",
       "std    5.539674e+01  \n",
       "min    1.585764e+09  \n",
       "25%    1.585764e+09  \n",
       "50%    1.585764e+09  \n",
       "75%    1.585764e+09  \n",
       "max    1.585764e+09  "
      ]
     },
     "execution_count": 6,
     "metadata": {},
     "output_type": "execute_result"
    }
   ],
   "source": []
  },
  {
   "cell_type": "code",
   "execution_count": 17,
   "metadata": {},
   "outputs": [
    {
     "data": {
      "text/plain": [
       "Int64Index([], dtype='int64')"
      ]
     },
     "execution_count": 17,
     "metadata": {},
     "output_type": "execute_result"
    }
   ],
   "source": [
    "#  Get the indices of cities that have humidity over 100%.\n"
   ]
  },
  {
   "cell_type": "code",
   "execution_count": 19,
   "metadata": {
    "collapsed": true
   },
   "outputs": [
    {
     "data": {
      "text/html": [
       "<div>\n",
       "<style scoped>\n",
       "    .dataframe tbody tr th:only-of-type {\n",
       "        vertical-align: middle;\n",
       "    }\n",
       "\n",
       "    .dataframe tbody tr th {\n",
       "        vertical-align: top;\n",
       "    }\n",
       "\n",
       "    .dataframe thead th {\n",
       "        text-align: right;\n",
       "    }\n",
       "</style>\n",
       "<table border=\"1\" class=\"dataframe\">\n",
       "  <thead>\n",
       "    <tr style=\"text-align: right;\">\n",
       "      <th></th>\n",
       "      <th>City</th>\n",
       "      <th>Lat</th>\n",
       "      <th>Lng</th>\n",
       "      <th>Max Temp</th>\n",
       "      <th>Humidity</th>\n",
       "      <th>Cloudiness</th>\n",
       "      <th>Wind Speed</th>\n",
       "      <th>Country</th>\n",
       "      <th>Date</th>\n",
       "    </tr>\n",
       "  </thead>\n",
       "  <tbody>\n",
       "    <tr>\n",
       "      <td>0</td>\n",
       "      <td>butaritari</td>\n",
       "      <td>3.07</td>\n",
       "      <td>172.79</td>\n",
       "      <td>83.32</td>\n",
       "      <td>74</td>\n",
       "      <td>84</td>\n",
       "      <td>10.42</td>\n",
       "      <td>KI</td>\n",
       "      <td>1593605283</td>\n",
       "    </tr>\n",
       "    <tr>\n",
       "      <td>1</td>\n",
       "      <td>yerbogachen</td>\n",
       "      <td>61.28</td>\n",
       "      <td>108.01</td>\n",
       "      <td>79.52</td>\n",
       "      <td>58</td>\n",
       "      <td>20</td>\n",
       "      <td>7.70</td>\n",
       "      <td>RU</td>\n",
       "      <td>1593605121</td>\n",
       "    </tr>\n",
       "    <tr>\n",
       "      <td>2</td>\n",
       "      <td>cape town</td>\n",
       "      <td>-33.93</td>\n",
       "      <td>18.42</td>\n",
       "      <td>73.00</td>\n",
       "      <td>77</td>\n",
       "      <td>27</td>\n",
       "      <td>4.70</td>\n",
       "      <td>ZA</td>\n",
       "      <td>1593605039</td>\n",
       "    </tr>\n",
       "    <tr>\n",
       "      <td>3</td>\n",
       "      <td>touba</td>\n",
       "      <td>8.28</td>\n",
       "      <td>-7.68</td>\n",
       "      <td>79.97</td>\n",
       "      <td>75</td>\n",
       "      <td>82</td>\n",
       "      <td>3.58</td>\n",
       "      <td>CI</td>\n",
       "      <td>1593605284</td>\n",
       "    </tr>\n",
       "    <tr>\n",
       "      <td>4</td>\n",
       "      <td>jamestown</td>\n",
       "      <td>42.10</td>\n",
       "      <td>-79.24</td>\n",
       "      <td>64.00</td>\n",
       "      <td>88</td>\n",
       "      <td>1</td>\n",
       "      <td>6.93</td>\n",
       "      <td>US</td>\n",
       "      <td>1593605284</td>\n",
       "    </tr>\n",
       "  </tbody>\n",
       "</table>\n",
       "</div>"
      ],
      "text/plain": [
       "          City    Lat     Lng  Max Temp  Humidity  Cloudiness  Wind Speed  \\\n",
       "0   butaritari   3.07  172.79     83.32        74          84       10.42   \n",
       "1  yerbogachen  61.28  108.01     79.52        58          20        7.70   \n",
       "2    cape town -33.93   18.42     73.00        77          27        4.70   \n",
       "3        touba   8.28   -7.68     79.97        75          82        3.58   \n",
       "4    jamestown  42.10  -79.24     64.00        88           1        6.93   \n",
       "\n",
       "  Country        Date  \n",
       "0      KI  1593605283  \n",
       "1      RU  1593605121  \n",
       "2      ZA  1593605039  \n",
       "3      CI  1593605284  \n",
       "4      US  1593605284  "
      ]
     },
     "execution_count": 19,
     "metadata": {},
     "output_type": "execute_result"
    }
   ],
   "source": [
    "# Make a new DataFrame equal to the city data to drop all humidity outliers by index.\n",
    "# Passing \"inplace=False\" will make a copy of the city_data DataFrame, which we call \"clean_city_data\".\n"
   ]
  },
  {
   "cell_type": "code",
   "execution_count": null,
   "metadata": {},
   "outputs": [],
   "source": [
    "\n"
   ]
  },
  {
   "cell_type": "markdown",
   "metadata": {},
   "source": [
    "## Plotting the Data\n",
    "* Use proper labeling of the plots using plot titles (including date of analysis) and axes labels.\n",
    "* Save the plotted figures as .pngs."
   ]
  },
  {
   "cell_type": "markdown",
   "metadata": {},
   "source": [
    "## Latitude vs. Temperature Plot"
   ]
  },
  {
   "cell_type": "code",
   "execution_count": 69,
   "metadata": {},
   "outputs": [
    {
     "data": {
      "image/png": "[encoded data removed]",
      "text/plain": [
       "<Figure size 432x288 with 1 Axes>"
      ]
     },
     "metadata": {
      "needs_background": "light"
     },
     "output_type": "display_data"
    }
   ],
   "source": [
    "x = weather_data[\"Lat\"]\n",
    "y = weather_data[\"Max Temp\"]\n",
    "\n",
    "plt.scatter(x, y, marker = 'o', color = 'b', edgecolor = \"black\")\n",
    "plt.title(\"City Latitude vs. Max Temperature (04/01/20)\")\n",
    "plt.xlabel(\"Latitude\")\n",
    "plt.ylabel(\"Max Temperarture (F)\")\n",
    "plt.grid(True) \n",
    "\n",
    "plt.show()"
   ]
  },
  {
   "cell_type": "markdown",
   "metadata": {},
   "source": [
    "## Latitude vs. Humidity Plot"
   ]
  },
  {
   "cell_type": "code",
   "execution_count": 70,
   "metadata": {},
   "outputs": [
    {
     "data": {
      "image/png": "[encoded data removed]",
      "text/plain": [
       "<Figure size 432x288 with 1 Axes>"
      ]
     },
     "metadata": {
      "needs_background": "light"
     },
     "output_type": "display_data"
    }
   ],
   "source": [
    "x = weather_data[\"Lat\"]\n",
    "y = weather_data[\"Humidity\"]\n",
    "\n",
    "plt.scatter(x, y, marker = 'o', color = 'b', edgecolor = \"black\")\n",
    "plt.title(\"City Latitude vs. Humidity (04/01/20)\")\n",
    "plt.xlabel(\"Latitude\")\n",
    "plt.ylabel(\"Humidity\")\n",
    "plt.grid(True) \n",
    "\n",
    "plt.show()"
   ]
  },
  {
   "cell_type": "markdown",
   "metadata": {},
   "source": [
    "## Latitude vs. Cloudiness Plot"
   ]
  },
  {
   "cell_type": "code",
   "execution_count": 71,
   "metadata": {},
   "outputs": [
    {
     "data": {
      "image/png": "[encoded data removed]",
      "text/plain": [
       "<Figure size 432x288 with 1 Axes>"
      ]
     },
     "metadata": {
      "needs_background": "light"
     },
     "output_type": "display_data"
    }
   ],
   "source": [
    "x = weather_data[\"Lat\"]\n",
    "y = weather_data[\"Cloudiness\"]\n",
    "\n",
    "plt.scatter(x, y, marker = 'o', color = 'b', edgecolor = \"black\")\n",
    "plt.title(\"City Latitude vs. Max Temperature (04/01/20)\")\n",
    "plt.xlabel(\"Latitude\")\n",
    "plt.ylabel(\"Cloudiness \")\n",
    "plt.grid(True) \n",
    "\n",
    "plt.show()"
   ]
  },
  {
   "cell_type": "markdown",
   "metadata": {},
   "source": [
    "## Latitude vs. Wind Speed Plot"
   ]
  },
  {
   "cell_type": "code",
   "execution_count": 72,
   "metadata": {},
   "outputs": [
    {
     "data": {
      "image/png": "[encoded data removed]",
      "text/plain": [
       "<Figure size 432x288 with 1 Axes>"
      ]
     },
     "metadata": {
      "needs_background": "light"
     },
     "output_type": "display_data"
    }
   ],
   "source": [
    "x = weather_data[\"Lat\"]\n",
    "y = weather_data[\"Wind Speed\"]\n",
    "\n",
    "plt.scatter(x, y, marker = 'o', color = 'b', edgecolor = \"black\")\n",
    "plt.title(\"City Latitude vs. Wind Speed (04/01/20)\")\n",
    "plt.xlabel(\"Latitude\")\n",
    "plt.ylabel(\"Wind Speed (MPH)\")\n",
    "plt.grid(True) \n",
    "\n",
    "plt.show()"
   ]
  },
  {
   "cell_type": "markdown",
   "metadata": {},
   "source": [
    "## Linear Regression"
   ]
  },
  {
   "cell_type": "code",
   "execution_count": 76,
   "metadata": {},
   "outputs": [],
   "source": [
    "northern = weather_data.loc[weather_data[\"Lat\"] >= 0.0]\n",
    "northern.reset_index(inplace=True)\n",
    "\n",
    "southern = weather_data.loc[weather_data[\"Lat\"] < 0.0]\n",
    "southern.reset_index(inplace=True)"
   ]
  },
  {
   "cell_type": "markdown",
   "metadata": {},
   "source": [
    "####  Northern Hemisphere - Max Temp vs. Latitude Linear Regression"
   ]
  },
  {
   "cell_type": "code",
   "execution_count": 102,
   "metadata": {},
   "outputs": [
    {
     "name": "stdout",
     "output_type": "stream",
     "text": [
      "the r-value is: 0.7853416655859669\n"
     ]
    },
    {
     "data": {
      "image/png": "[encoded data removed]",
      "text/plain": [
       "<Figure size 432x288 with 1 Axes>"
      ]
     },
     "metadata": {
      "needs_background": "light"
     },
     "output_type": "display_data"
    }
   ],
   "source": [
    "x = northern[\"Lat\"]\n",
    "y = northern[\"Max Temp\"]\n",
    "\n",
    "(slope, intercept, rvalue, pvalue, stderr) = linregress(x, y)\n",
    "regress_values = x * slope + intercept\n",
    "line_eq = \"y = \" + str(round(slope,2)) + \"x + \" + str(round(intercept,2)) \n",
    "\n",
    "print(f\"the r-value is: {rvalue**2}\")\n",
    "\n",
    "plt.scatter(x, y, marker = 'o', color = 'b', edgecolor = \"black\")\n",
    "plt.plot(x, regress_values, \"r-\")\n",
    "plt.annotate(line_eq, (0, 30), color='red', fontsize=15)\n",
    "plt.xlabel(\"Latitude\")\n",
    "plt.ylabel(\"Max Temperarture (F)\")\n",
    "\n",
    "\n",
    "plt.show()"
   ]
  },
  {
   "cell_type": "markdown",
   "metadata": {},
   "source": [
    "####  Southern Hemisphere - Max Temp vs. Latitude Linear Regression"
   ]
  },
  {
   "cell_type": "code",
   "execution_count": 107,
   "metadata": {},
   "outputs": [
    {
     "name": "stdout",
     "output_type": "stream",
     "text": [
      "the r-value is: 0.49215332218255475\n"
     ]
    },
    {
     "data": {
      "image/png": "[encoded data removed]",
      "text/plain": [
       "<Figure size 432x288 with 1 Axes>"
      ]
     },
     "metadata": {
      "needs_background": "light"
     },
     "output_type": "display_data"
    }
   ],
   "source": [
    "x = southern[\"Lat\"]\n",
    "y = southern[\"Max Temp\"]\n",
    "\n",
    "(slope, intercept, rvalue, pvalue, stderr) = linregress(x, y)\n",
    "regress_values = x * slope + intercept\n",
    "line_eq = \"y = \" + str(round(slope,2)) + \"x + \" + str(round(intercept,2)) \n",
    "\n",
    "print(f\"the r-value is: {rvalue**2}\")\n",
    "\n",
    "plt.scatter(x, y, marker = 'o', color = 'b', edgecolor = \"black\")\n",
    "plt.plot(x, regress_values, \"r-\")\n",
    "plt.annotate(line_eq, (0, 30), color='red', fontsize=15)\n",
    "plt.xlabel(\"Latitude\")\n",
    "plt.ylabel(\"Max Temperarture (F)\")\n",
    "\n",
    "plt.show()"
   ]
  },
  {
   "cell_type": "markdown",
   "metadata": {},
   "source": [
    "####  Northern Hemisphere - Humidity (%) vs. Latitude Linear Regression"
   ]
  },
  {
   "cell_type": "code",
   "execution_count": 100,
   "metadata": {},
   "outputs": [
    {
     "name": "stdout",
     "output_type": "stream",
     "text": [
      "the r-value is: 0.010064424151266118\n"
     ]
    },
    {
     "data": {
      "image/png": "[encoded data removed]",
      "text/plain": [
       "<Figure size 432x288 with 1 Axes>"
      ]
     },
     "metadata": {
      "needs_background": "light"
     },
     "output_type": "display_data"
    }
   ],
   "source": [
    "x = northern[\"Lat\"]\n",
    "y = northern[\"Humidity\"]\n",
    "\n",
    "(slope, intercept, rvalue, pvalue, stderr) = linregress(x, y)\n",
    "regress_values = x * slope + intercept\n",
    "line_eq = \"y = \" + str(round(slope,2)) + \"x + \" + str(round(intercept,2)) \n",
    "\n",
    "print(f\"the r-value is: {rvalue**2}\")\n",
    "\n",
    "plt.scatter(x, y, marker = 'o', color = 'b', edgecolor = \"black\")\n",
    "plt.plot(x, regress_values, \"r-\")\n",
    "plt.annotate(line_eq, (0, 30), color='red', fontsize=15)\n",
    "plt.xlabel(\"Latitude\")\n",
    "plt.ylabel(\"Humidity\")\n",
    "\n",
    "\n",
    "plt.show()"
   ]
  },
  {
   "cell_type": "markdown",
   "metadata": {},
   "source": [
    "####  Southern Hemisphere - Humidity (%) vs. Latitude Linear Regression"
   ]
  },
  {
   "cell_type": "code",
   "execution_count": 99,
   "metadata": {},
   "outputs": [
    {
     "name": "stdout",
     "output_type": "stream",
     "text": [
      "the r-value is: 0.05188706180573311\n"
     ]
    },
    {
     "data": {
      "image/png": "[encoded data removed]",
      "text/plain": [
       "<Figure size 432x288 with 1 Axes>"
      ]
     },
     "metadata": {
      "needs_background": "light"
     },
     "output_type": "display_data"
    }
   ],
   "source": [
    "x = southern[\"Lat\"]\n",
    "y = southern[\"Humidity\"]\n",
    "\n",
    "(slope, intercept, rvalue, pvalue, stderr) = linregress(x, y)\n",
    "regress_values = x * slope + intercept\n",
    "line_eq = \"y = \" + str(round(slope,2)) + \"x + \" + str(round(intercept,2)) \n",
    "\n",
    "print(f\"the r-value is: {rvalue**2}\")\n",
    "\n",
    "plt.scatter(x, y, marker = 'o', color = 'b', edgecolor = \"black\")\n",
    "plt.plot(x, regress_values, \"r-\")\n",
    "plt.annotate(line_eq, (0, 30), color='red', fontsize=15)\n",
    "plt.xlabel(\"Latitude\")\n",
    "plt.ylabel(\"Humidity\")\n",
    "\n",
    "\n",
    "plt.show()"
   ]
  },
  {
   "cell_type": "markdown",
   "metadata": {},
   "source": [
    "####  Northern Hemisphere - Cloudiness (%) vs. Latitude Linear Regression"
   ]
  },
  {
   "cell_type": "code",
   "execution_count": 98,
   "metadata": {},
   "outputs": [
    {
     "name": "stdout",
     "output_type": "stream",
     "text": [
      "the r-value is: 0.030595033703533923\n"
     ]
    },
    {
     "data": {
      "image/png": "[encoded data removed]",
      "text/plain": [
       "<Figure size 432x288 with 1 Axes>"
      ]
     },
     "metadata": {
      "needs_background": "light"
     },
     "output_type": "display_data"
    }
   ],
   "source": [
    "x = northern[\"Lat\"]\n",
    "y = northern[\"Cloudiness\"]\n",
    "\n",
    "(slope, intercept, rvalue, pvalue, stderr) = linregress(x, y)\n",
    "regress_values = x * slope + intercept\n",
    "line_eq = \"y = \" + str(round(slope,2)) + \"x + \" + str(round(intercept,2)) \n",
    "\n",
    "print(f\"the r-value is: {rvalue**2}\")\n",
    "\n",
    "plt.scatter(x, y, marker = 'o', color = 'b', edgecolor = \"black\")\n",
    "plt.plot(x, regress_values, \"r-\")\n",
    "plt.annotate(line_eq, (0, 30), color='red', fontsize=15)\n",
    "plt.xlabel(\"Latitude\")\n",
    "plt.ylabel(\"Cloudiness\")\n",
    "\n",
    "\n",
    "plt.show()"
   ]
  },
  {
   "cell_type": "markdown",
   "metadata": {},
   "source": [
    "####  Southern Hemisphere - Cloudiness (%) vs. Latitude Linear Regression"
   ]
  },
  {
   "cell_type": "code",
   "execution_count": 103,
   "metadata": {},
   "outputs": [
    {
     "name": "stdout",
     "output_type": "stream",
     "text": [
      "the r-value is: 0.49215332218255475\n"
     ]
    },
    {
     "data": {
      "image/png": "[encoded data removed]",
      "text/plain": [
       "<Figure size 432x288 with 1 Axes>"
      ]
     },
     "metadata": {
      "needs_background": "light"
     },
     "output_type": "display_data"
    }
   ],
   "source": [
    "x = southern[\"Lat\"]\n",
    "y = southern[\"Max Temp\"]\n",
    "\n",
    "(slope, intercept, rvalue, pvalue, stderr) = linregress(x, y)\n",
    "regress_values = x * slope + intercept\n",
    "line_eq = \"y = \" + str(round(slope,2)) + \"x + \" + str(round(intercept,2)) \n",
    "\n",
    "print(f\"the r-value is: {rvalue**2}\")\n",
    "\n",
    "plt.scatter(x, y, marker = 'o', color = 'b', edgecolor = \"black\")\n",
    "plt.plot(x, regress_values, \"r-\")\n",
    "plt.annotate(line_eq, (0, 30), color='red', fontsize=15)\n",
    "plt.xlabel(\"Latitude\")\n",
    "plt.ylabel(\"Cloudiness\")\n",
    "\n",
    "\n",
    "plt.show()"
   ]
  },
  {
   "cell_type": "markdown",
   "metadata": {},
   "source": [
    "####  Northern Hemisphere - Wind Speed (mph) vs. Latitude Linear Regression"
   ]
  },
  {
   "cell_type": "code",
   "execution_count": 104,
   "metadata": {},
   "outputs": [
    {
     "name": "stdout",
     "output_type": "stream",
     "text": [
      "the r-value is: 0.013799128782348692\n"
     ]
    },
    {
     "data": {
      "image/png": "[encoded data removed]",
      "text/plain": [
       "<Figure size 432x288 with 1 Axes>"
      ]
     },
     "metadata": {
      "needs_background": "light"
     },
     "output_type": "display_data"
    }
   ],
   "source": [
    "x = northern[\"Lat\"]\n",
    "y = northern[\"Wind Speed\"]\n",
    "\n",
    "(slope, intercept, rvalue, pvalue, stderr) = linregress(x, y)\n",
    "regress_values = x * slope + intercept\n",
    "line_eq = \"y = \" + str(round(slope,2)) + \"x + \" + str(round(intercept,2)) \n",
    "\n",
    "print(f\"the r-value is: {rvalue**2}\")\n",
    "\n",
    "plt.scatter(x, y, marker = 'o', color = 'b', edgecolor = \"black\")\n",
    "plt.plot(x, regress_values, \"r-\")\n",
    "plt.annotate(line_eq, (0, 30), color='red', fontsize=15)\n",
    "plt.xlabel(\"Latitude\")\n",
    "plt.ylabel(\"WindSpeed\")\n",
    "\n",
    "\n",
    "plt.show()"
   ]
  },
  {
   "cell_type": "markdown",
   "metadata": {},
   "source": [
    "####  Southern Hemisphere - Wind Speed (mph) vs. Latitude Linear Regression"
   ]
  },
  {
   "cell_type": "code",
   "execution_count": 106,
   "metadata": {},
   "outputs": [
    {
     "name": "stdout",
     "output_type": "stream",
     "text": [
      "the r-value is: 0.07994601181183687\n"
     ]
    },
    {
     "data": {
      "image/png": "[encoded data removed]",
      "text/plain": [
       "<Figure size 432x288 with 1 Axes>"
      ]
     },
     "metadata": {
      "needs_background": "light"
     },
     "output_type": "display_data"
    }
   ],
   "source": [
    "x = southern[\"Lat\"]\n",
    "y = southern[\"Wind Speed\"]\n",
    "\n",
    "(slope, intercept, rvalue, pvalue, stderr) = linregress(x, y)\n",
    "regress_values = x * slope + intercept\n",
    "line_eq = \"y = \" + str(round(slope,2)) + \"x + \" + str(round(intercept,2)) \n",
    "\n",
    "print(f\"the r-value is: {rvalue**2}\")\n",
    "\n",
    "plt.scatter(x, y, marker = 'o', color = 'b', edgecolor = \"black\")\n",
    "plt.plot(x, regress_values, \"r-\")\n",
    "plt.annotate(line_eq, (0, 30), color='red', fontsize=15)\n",
    "plt.xlabel(\"Latitude\")\n",
    "plt.ylabel(\"WindSpeed\")\n",
    "\n",
    "plt.show()"
   ]
  },
  {
   "cell_type": "code",
   "execution_count": null,
   "metadata": {},
   "outputs": [],
   "source": []
  }
 ],
 "metadata": {
  "anaconda-cloud": {},
  "kernel_info": {
   "name": "python3"
  },
  "kernelspec": {
   "display_name": "Python 3",
   "language": "python",
   "name": "python3"
  },
  "language_info": {
   "codemirror_mode": {
    "name": "ipython",
    "version": 3
   },
   "file_extension": ".py",
   "mimetype": "text/x-python",
   "name": "python",
   "nbconvert_exporter": "python",
   "pygments_lexer": "ipython3",
   "version": "3.8.5"
  },
  "latex_envs": {
   "LaTeX_envs_menu_present": true,
   "autoclose": false,
   "autocomplete": true,
   "bibliofile": "biblio.bib",
   "cite_by": "apalike",
   "current_citInitial": 1,
   "eqLabelWithNumbers": true,
   "eqNumInitial": 1,
   "hotkeys": {
    "equation": "Ctrl-E",
    "itemize": "Ctrl-I"
   },
   "labels_anchors": false,
   "latex_user_defs": false,
   "report_style_numbering": false,
   "user_envs_cfg": false
  },
  "nteract": {
   "version": "0.12.3"
  }
 },
 "nbformat": 4,
 "nbformat_minor": 2
}
