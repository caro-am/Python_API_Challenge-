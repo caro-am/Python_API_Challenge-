{
 "cells": [
  {
   "cell_type": "markdown",
   "metadata": {},
   "source": [
    "# WeatherPy\n",
    "----\n",
    "\n",
    "#### Note\n",
    "* Instructions have been included for each segment. You do not have to follow them exactly, but they are included to help you think through the steps."
   ]
  },
  {
   "cell_type": "markdown",
   "metadata": {},
   "source": [
    "### Observations\n",
    "\n",
    "* After analyzing city weather data it is apperent that temperature and latitude are correlated. \n",
    "   * The further the distance from the equator in either direction (Northern or Southern), temerature decreases. \n",
    "* Humidity remained fairly consistent, and did not show much change when compared to the latitude. \n",
    "* The Northern Hemisphere also apears to have a higher concentartion of wind speeds than the Southern. "
   ]
  },
  {
   "cell_type": "code",
   "execution_count": 1,
   "metadata": {
    "scrolled": true
   },
   "outputs": [],
   "source": [
    "# Dependencies and Setup\n",
    "import matplotlib.pyplot as plt\n",
    "import pandas as pd\n",
    "import numpy as np\n",
    "import requests\n",
    "import time\n",
    "from scipy.stats import linregress\n",
    "\n",
    "# Import API key\n",
    "from api_keys import weather_api_key\n",
    "\n",
    "# Incorporated citipy to determine city based on latitude and longitude\n",
    "from citipy import citipy\n",
    "\n",
    "# Output File (CSV)\n",
    "output_data_file = \"output_data/cities.csv\"\n",
    "\n",
    "# Range of latitudes and longitudes\n",
    "lat_range = (-90, 90)\n",
    "lng_range = (-180, 180)"
   ]
  },
  {
   "cell_type": "markdown",
   "metadata": {},
   "source": [
    "## Generate Cities List"
   ]
  },
  {
   "cell_type": "code",
   "execution_count": 2,
   "metadata": {},
   "outputs": [
    {
     "data": {
      "text/plain": [
       "601"
      ]
     },
     "execution_count": 2,
     "metadata": {},
     "output_type": "execute_result"
    }
   ],
   "source": [
    "# List for holding lat_lngs and cities\n",
    "lat_lngs = []\n",
    "cities = []\n",
    "\n",
    "# Create a set of random lat and lng combinations\n",
    "lats = np.random.uniform(lat_range[0], lat_range[1], size=1500)\n",
    "lngs = np.random.uniform(lng_range[0], lng_range[1], size=1500)\n",
    "lat_lngs = zip(lats, lngs)\n",
    "\n",
    "# Identify nearest city for each lat, lng combination\n",
    "for lat_lng in lat_lngs:\n",
    "    city = citipy.nearest_city(lat_lng[0], lat_lng[1]).city_name\n",
    "    \n",
    "    # If the city is unique, then add it to a our cities list\n",
    "    if city not in cities:\n",
    "        cities.append(city)\n",
    "\n",
    "# Print the city count to confirm sufficient count\n",
    "len(cities) "
   ]
  },
  {
   "cell_type": "markdown",
   "metadata": {},
   "source": [
    "### Perform API Calls\n",
    "* Perform a weather check on each city using a series of successive API calls.\n",
    "* Include a print log of each city as it'sbeing processed (with the city number and city name).\n"
   ]
  },
  {
   "cell_type": "code",
   "execution_count": 3,
   "metadata": {},
   "outputs": [],
   "source": [
    "city_list = []\n",
    "lat_list= []\n",
    "lng_list = []\n",
    "max_temp_list = []\n",
    "humidity_list = []\n",
    "cloudy_list = []\n",
    "wind_speed_list = []\n",
    "country_list = []\n",
    "date_list = []\n",
    "index = 0\n",
    "counter = 1"
   ]
  },
  {
   "cell_type": "code",
   "execution_count": 4,
   "metadata": {
    "collapsed": true
   },
   "outputs": [
    {
     "name": "stdout",
     "output_type": "stream",
     "text": [
      "-------------------------\n",
      "Beginning Data Retrieval \n",
      "-------------------------\n",
      "Processing Record 2 of Set 1 : pandan niog\n",
      "Processing Record 3 of Set 1 : chuy\n",
      "Processing Record 4 of Set 1 : punta arenas\n",
      "Processing Record 5 of Set 1 : puerto ayora\n",
      "Processing Record 6 of Set 1 : ancud\n",
      "Processing Record 7 of Set 1 : khatanga\n",
      "City not found. Skipping.\n",
      "Processing Record 9 of Set 1 : porto novo\n",
      "Processing Record 10 of Set 1 : silopi\n",
      "Processing Record 11 of Set 1 : thompson\n",
      "City not found. Skipping.\n",
      "Processing Record 13 of Set 1 : rikitea\n",
      "Processing Record 14 of Set 1 : guerrero negro\n",
      "Processing Record 15 of Set 1 : naze\n",
      "Processing Record 16 of Set 1 : fortuna\n",
      "Processing Record 17 of Set 1 : provideniya\n",
      "Processing Record 18 of Set 1 : luderitz\n",
      "Processing Record 19 of Set 1 : moose factory\n",
      "Processing Record 20 of Set 1 : albany\n",
      "Processing Record 21 of Set 1 : talnakh\n",
      "Processing Record 22 of Set 1 : nanortalik\n",
      "Processing Record 23 of Set 1 : stjordalshalsen\n",
      "Processing Record 24 of Set 1 : hermanus\n",
      "Processing Record 25 of Set 1 : port alfred\n",
      "Processing Record 26 of Set 1 : busselton\n",
      "Processing Record 27 of Set 1 : bluff\n",
      "Processing Record 28 of Set 1 : upernavik\n",
      "Processing Record 29 of Set 1 : mogadishu\n",
      "Processing Record 30 of Set 1 : atuona\n",
      "Processing Record 31 of Set 1 : oistins\n",
      "Processing Record 32 of Set 1 : najran\n",
      "Processing Record 33 of Set 1 : inongo\n",
      "Processing Record 34 of Set 1 : pauini\n",
      "Processing Record 35 of Set 1 : chokurdakh\n",
      "Processing Record 36 of Set 1 : san andres\n",
      "Processing Record 37 of Set 1 : milkovo\n",
      "Processing Record 38 of Set 1 : aykhal\n",
      "Processing Record 39 of Set 1 : ahipara\n",
      "Processing Record 40 of Set 1 : codrington\n",
      "City not found. Skipping.\n",
      "City not found. Skipping.\n",
      "Processing Record 43 of Set 1 : poum\n",
      "Processing Record 44 of Set 1 : dikson\n",
      "Processing Record 45 of Set 1 : geraldton\n",
      "Processing Record 46 of Set 1 : hithadhoo\n",
      "Processing Record 47 of Set 1 : cocorit\n",
      "Processing Record 48 of Set 1 : barra patuca\n",
      "Processing Record 49 of Set 1 : ushuaia\n",
      "Processing Record 50 of Set 1 : barrow\n",
      "City not found. Skipping.\n",
      "Processing Record 0 of Set 2 : kahului\n",
      "Processing Record 0 of Set 3 : saint-philippe\n",
      "Processing Record 0 of Set 4 : port elizabeth\n",
      "Processing Record 0 of Set 5 : hobart\n",
      "Processing Record 0 of Set 6 : new norfolk\n",
      "Processing Record 0 of Set 7 : shanghai\n",
      "City not found. Skipping.\n",
      "Processing Record 0 of Set 8 : tautira\n",
      "City not found. Skipping.\n",
      "Processing Record 0 of Set 9 : okhotsk\n",
      "Processing Record 0 of Set 10 : avarua\n",
      "City not found. Skipping.\n",
      "Processing Record 0 of Set 11 : vila velha\n",
      "Processing Record 0 of Set 12 : sinnamary\n",
      "Processing Record 0 of Set 13 : lebu\n",
      "Processing Record 0 of Set 14 : lavrentiya\n",
      "Processing Record 0 of Set 15 : the valley\n",
      "Processing Record 0 of Set 16 : bethel\n",
      "Processing Record 0 of Set 17 : kupang\n",
      "Processing Record 0 of Set 18 : teguldet\n",
      "Processing Record 0 of Set 19 : torbay\n",
      "Processing Record 0 of Set 20 : matara\n",
      "Processing Record 0 of Set 21 : trapani\n",
      "Processing Record 0 of Set 22 : inirida\n",
      "Processing Record 0 of Set 23 : rocha\n",
      "Processing Record 0 of Set 24 : izhma\n",
      "Processing Record 0 of Set 25 : kodiak\n",
      "Processing Record 0 of Set 26 : saskylakh\n",
      "Processing Record 0 of Set 27 : phuket\n",
      "Processing Record 0 of Set 28 : lubumbashi\n",
      "Processing Record 0 of Set 29 : anadyr\n",
      "Processing Record 0 of Set 30 : cidreira\n",
      "City not found. Skipping.\n",
      "Processing Record 0 of Set 31 : arraial do cabo\n",
      "Processing Record 0 of Set 32 : saint-pierre\n",
      "Processing Record 0 of Set 33 : mataura\n",
      "City not found. Skipping.\n",
      "Processing Record 0 of Set 34 : hilo\n",
      "Processing Record 0 of Set 35 : qaqortoq\n",
      "Processing Record 0 of Set 36 : conakry\n",
      "Processing Record 0 of Set 37 : nikolskoye\n",
      "Processing Record 0 of Set 38 : jalingo\n",
      "Processing Record 0 of Set 39 : atambua\n",
      "Processing Record 0 of Set 40 : hasaki\n",
      "Processing Record 0 of Set 41 : lorengau\n",
      "Processing Record 0 of Set 42 : bilibino\n",
      "Processing Record 0 of Set 43 : amga\n",
      "Processing Record 0 of Set 44 : mampong\n",
      "City not found. Skipping.\n",
      "Processing Record 0 of Set 45 : khrebtovaya\n",
      "Processing Record 0 of Set 46 : tammisaari\n",
      "Processing Record 0 of Set 47 : carutapera\n",
      "City not found. Skipping.\n",
      "Processing Record 0 of Set 48 : cape town\n",
      "Processing Record 0 of Set 49 : yellowknife\n",
      "Processing Record 0 of Set 50 : lazaro cardenas\n",
      "Processing Record 0 of Set 51 : bathsheba\n",
      "Processing Record 0 of Set 52 : kirakira\n",
      "Processing Record 0 of Set 53 : jamestown\n",
      "City not found. Skipping.\n",
      "Processing Record 0 of Set 54 : clyde\n",
      "City not found. Skipping.\n",
      "Processing Record 0 of Set 55 : nabire\n",
      "Processing Record 0 of Set 56 : fairbanks\n",
      "Processing Record 0 of Set 57 : laguna\n",
      "Processing Record 0 of Set 58 : tondano\n",
      "Processing Record 0 of Set 59 : alofi\n",
      "City not found. Skipping.\n",
      "City not found. Skipping.\n",
      "Processing Record 0 of Set 60 : salalah\n",
      "Processing Record 0 of Set 61 : kapaa\n",
      "Processing Record 0 of Set 62 : kedougou\n",
      "Processing Record 0 of Set 63 : marsabit\n",
      "Processing Record 0 of Set 64 : healesville\n",
      "Processing Record 0 of Set 65 : carnarvon\n",
      "Processing Record 0 of Set 66 : kruisfontein\n",
      "Processing Record 0 of Set 67 : hamilton\n",
      "Processing Record 0 of Set 68 : bredasdorp\n",
      "Processing Record 0 of Set 69 : mbanza-ngungu\n",
      "Processing Record 0 of Set 70 : mahebourg\n",
      "Processing Record 0 of Set 71 : parga\n",
      "Processing Record 0 of Set 72 : inhambane\n",
      "Processing Record 0 of Set 73 : vaini\n",
      "Processing Record 0 of Set 74 : drumheller\n",
      "Processing Record 0 of Set 75 : acarau\n",
      "Processing Record 0 of Set 76 : east london\n",
      "City not found. Skipping.\n",
      "Processing Record 0 of Set 77 : kitimat\n",
      "Processing Record 0 of Set 78 : fort nelson\n",
      "Processing Record 0 of Set 79 : neiafu\n",
      "Processing Record 0 of Set 80 : kurilsk\n",
      "Processing Record 0 of Set 81 : cockburn town\n",
      "Processing Record 0 of Set 82 : cap malheureux\n",
      "Processing Record 0 of Set 83 : lasa\n",
      "Processing Record 0 of Set 84 : ilave\n",
      "Processing Record 0 of Set 85 : la ronge\n",
      "Processing Record 0 of Set 86 : kulu\n",
      "Processing Record 0 of Set 87 : rock sound\n",
      "City not found. Skipping.\n",
      "Processing Record 0 of Set 88 : lawrenceburg\n",
      "Processing Record 0 of Set 89 : drochtersen\n",
      "Processing Record 0 of Set 90 : klaksvik\n",
      "Processing Record 0 of Set 91 : vila franca do campo\n",
      "Processing Record 0 of Set 92 : rajo khanani\n",
      "City not found. Skipping.\n",
      "City not found. Skipping.\n",
      "Processing Record 0 of Set 93 : korla\n",
      "Processing Record 0 of Set 94 : butaritari\n",
      "Processing Record 0 of Set 95 : mount gambier\n",
      "Processing Record 0 of Set 96 : tual\n",
      "Processing Record 0 of Set 97 : namatanai\n",
      "Processing Record 0 of Set 98 : port-gentil\n",
      "Processing Record 0 of Set 99 : san patricio\n",
      "Processing Record 0 of Set 100 : sao filipe\n",
      "Processing Record 0 of Set 101 : sao joao da barra\n",
      "Processing Record 0 of Set 102 : ust-kuyga\n",
      "Processing Record 0 of Set 103 : puerto baquerizo moreno\n",
      "Processing Record 0 of Set 104 : tuktoyaktuk\n",
      "Processing Record 0 of Set 105 : san rafael\n",
      "Processing Record 0 of Set 106 : general roca\n",
      "Processing Record 0 of Set 107 : tura\n",
      "Processing Record 0 of Set 108 : morant bay\n",
      "Processing Record 0 of Set 109 : tutoia\n",
      "Processing Record 0 of Set 110 : tynda\n",
      "Processing Record 0 of Set 111 : dunedin\n",
      "Processing Record 0 of Set 112 : sakakah\n",
      "Processing Record 0 of Set 113 : taoudenni\n",
      "Processing Record 0 of Set 114 : alice springs\n",
      "Processing Record 0 of Set 115 : pangnirtung\n",
      "Processing Record 0 of Set 116 : farafangana\n",
      "City not found. Skipping.\n",
      "Processing Record 0 of Set 117 : ullapool\n",
      "City not found. Skipping.\n",
      "Processing Record 0 of Set 118 : aklavik\n",
      "Processing Record 0 of Set 119 : ixtapa\n",
      "Processing Record 0 of Set 120 : kwekwe\n",
      "Processing Record 0 of Set 121 : boundiali\n",
      "Processing Record 0 of Set 122 : bilma\n",
      "Processing Record 0 of Set 123 : petropavlovsk-kamchatskiy\n",
      "Processing Record 0 of Set 124 : havre-saint-pierre\n",
      "Processing Record 0 of Set 125 : qaanaaq\n",
      "City not found. Skipping.\n",
      "Processing Record 0 of Set 126 : krasnoselkup\n",
      "City not found. Skipping.\n",
      "Processing Record 0 of Set 127 : bandarbeyla\n",
      "Processing Record 0 of Set 128 : zuwarah\n",
      "Processing Record 0 of Set 129 : banda aceh\n",
      "Processing Record 0 of Set 130 : olden\n",
      "Processing Record 0 of Set 131 : severo-kurilsk\n",
      "Processing Record 0 of Set 132 : esperance\n",
      "Processing Record 0 of Set 133 : mana\n",
      "Processing Record 0 of Set 134 : pevek\n",
      "Processing Record 0 of Set 135 : shache\n",
      "Processing Record 0 of Set 136 : bambous virieux\n"
     ]
    },
    {
     "name": "stdout",
     "output_type": "stream",
     "text": [
      "Processing Record 0 of Set 137 : mamburao\n",
      "Processing Record 0 of Set 138 : lagoa\n",
      "Processing Record 0 of Set 139 : shahreza\n",
      "Processing Record 0 of Set 140 : muros\n",
      "Processing Record 0 of Set 141 : northam\n",
      "Processing Record 0 of Set 142 : sur\n",
      "Processing Record 0 of Set 143 : tasiilaq\n",
      "Processing Record 0 of Set 144 : sekoma\n",
      "Processing Record 0 of Set 145 : yar-sale\n",
      "Processing Record 0 of Set 146 : thermi\n",
      "Processing Record 0 of Set 147 : mackay\n",
      "Processing Record 0 of Set 148 : guasdualito\n",
      "City not found. Skipping.\n",
      "Processing Record 0 of Set 149 : porto empedocle\n",
      "Processing Record 0 of Set 150 : souillac\n",
      "Processing Record 0 of Set 151 : porto franco\n",
      "Processing Record 0 of Set 152 : rio grande\n",
      "Processing Record 0 of Set 153 : kenai\n",
      "Processing Record 0 of Set 154 : itaituba\n",
      "Processing Record 0 of Set 155 : faya\n",
      "Processing Record 0 of Set 156 : baykit\n",
      "Processing Record 0 of Set 157 : kyaikkami\n",
      "Processing Record 0 of Set 158 : qena\n",
      "Processing Record 0 of Set 159 : victoria\n",
      "Processing Record 0 of Set 160 : canavieiras\n",
      "Processing Record 0 of Set 161 : presidencia roque saenz pena\n",
      "Processing Record 0 of Set 162 : yulara\n",
      "Processing Record 0 of Set 163 : quatre cocos\n",
      "Processing Record 0 of Set 164 : amnat charoen\n",
      "Processing Record 0 of Set 165 : adrar\n",
      "Processing Record 0 of Set 166 : yarada\n",
      "Processing Record 0 of Set 167 : suhum\n",
      "Processing Record 0 of Set 168 : port hardy\n",
      "Processing Record 0 of Set 169 : ilulissat\n",
      "Processing Record 0 of Set 170 : moron\n",
      "Processing Record 0 of Set 171 : jutai\n",
      "Processing Record 0 of Set 172 : smalininkai\n",
      "Processing Record 0 of Set 173 : iqaluit\n",
      "Processing Record 0 of Set 174 : cherskiy\n",
      "Processing Record 0 of Set 175 : longyearbyen\n",
      "Processing Record 0 of Set 176 : lucea\n",
      "Processing Record 0 of Set 177 : volta redonda\n",
      "Processing Record 0 of Set 178 : bismarck\n",
      "Processing Record 0 of Set 179 : kirkuk\n",
      "Processing Record 0 of Set 180 : conceicao do araguaia\n",
      "Processing Record 0 of Set 181 : kavieng\n",
      "Processing Record 0 of Set 182 : marshall\n",
      "Processing Record 0 of Set 183 : bonavista\n",
      "Processing Record 0 of Set 184 : castro\n",
      "Processing Record 0 of Set 185 : norman wells\n",
      "Processing Record 0 of Set 186 : georgetown\n",
      "Processing Record 0 of Set 187 : ponta do sol\n",
      "Processing Record 0 of Set 188 : dingle\n",
      "Processing Record 0 of Set 189 : awbari\n",
      "Processing Record 0 of Set 190 : bam\n",
      "Processing Record 0 of Set 191 : hervey bay\n",
      "Processing Record 0 of Set 192 : mehamn\n",
      "Processing Record 0 of Set 193 : ponta delgada\n",
      "Processing Record 0 of Set 194 : asarganj\n",
      "City not found. Skipping.\n",
      "Processing Record 0 of Set 195 : san cristobal\n",
      "Processing Record 0 of Set 196 : sept-iles\n",
      "Processing Record 0 of Set 197 : vao\n",
      "Processing Record 0 of Set 198 : morwell\n",
      "Processing Record 0 of Set 199 : aksu\n",
      "Processing Record 0 of Set 200 : vardo\n",
      "Processing Record 0 of Set 201 : loningen\n",
      "Processing Record 0 of Set 202 : vilya\n",
      "Processing Record 0 of Set 203 : vysokogornyy\n",
      "City not found. Skipping.\n",
      "Processing Record 0 of Set 204 : ust-nera\n",
      "Processing Record 0 of Set 205 : tazmalt\n",
      "Processing Record 0 of Set 206 : lovozero\n",
      "Processing Record 0 of Set 207 : opuwo\n",
      "Processing Record 0 of Set 208 : los llanos de aridane\n",
      "Processing Record 0 of Set 209 : port lincoln\n",
      "Processing Record 0 of Set 210 : gat\n",
      "City not found. Skipping.\n",
      "Processing Record 0 of Set 211 : praia da vitoria\n",
      "Processing Record 0 of Set 212 : makakilo city\n",
      "Processing Record 0 of Set 213 : paulinia\n",
      "Processing Record 0 of Set 214 : cabo san lucas\n",
      "Processing Record 0 of Set 215 : alghero\n",
      "Processing Record 0 of Set 216 : parana\n",
      "Processing Record 0 of Set 217 : waipawa\n",
      "Processing Record 0 of Set 218 : roald\n",
      "Processing Record 0 of Set 219 : rawson\n",
      "Processing Record 0 of Set 220 : zhanaozen\n",
      "Processing Record 0 of Set 221 : luganville\n",
      "Processing Record 0 of Set 222 : clyde river\n",
      "Processing Record 0 of Set 223 : coihaique\n",
      "City not found. Skipping.\n",
      "City not found. Skipping.\n",
      "Processing Record 0 of Set 224 : qidong\n",
      "Processing Record 0 of Set 225 : preston\n",
      "Processing Record 0 of Set 226 : nador\n",
      "Processing Record 0 of Set 227 : kailaras\n",
      "Processing Record 0 of Set 228 : cayenne\n",
      "Processing Record 0 of Set 229 : manavalakurichi\n",
      "Processing Record 0 of Set 230 : saint anthony\n",
      "Processing Record 0 of Set 231 : mar del plata\n",
      "Processing Record 0 of Set 232 : uray\n",
      "Processing Record 0 of Set 233 : ostrovnoy\n",
      "Processing Record 0 of Set 234 : salta\n",
      "Processing Record 0 of Set 235 : severo-yeniseyskiy\n",
      "Processing Record 0 of Set 236 : upata\n",
      "City not found. Skipping.\n",
      "Processing Record 0 of Set 237 : kinkala\n",
      "Processing Record 0 of Set 238 : khuzhir\n",
      "Processing Record 0 of Set 239 : burnie\n",
      "Processing Record 0 of Set 240 : panzhihua\n",
      "Processing Record 0 of Set 241 : paamiut\n",
      "Processing Record 0 of Set 242 : teacapan\n",
      "Processing Record 0 of Set 243 : saint george\n",
      "Processing Record 0 of Set 244 : pesnica pri mariboru\n",
      "Processing Record 0 of Set 245 : kuytun\n",
      "Processing Record 0 of Set 246 : carauari\n",
      "Processing Record 0 of Set 247 : rudnogorsk\n",
      "Processing Record 0 of Set 248 : tibati\n",
      "Processing Record 0 of Set 249 : bengkulu\n",
      "Processing Record 0 of Set 250 : sal rei\n",
      "Processing Record 0 of Set 251 : baruun-urt\n",
      "Processing Record 0 of Set 252 : khor\n",
      "Processing Record 0 of Set 253 : nueva loja\n",
      "Processing Record 0 of Set 254 : otradnoye\n",
      "Processing Record 0 of Set 255 : tecoanapa\n",
      "Processing Record 0 of Set 256 : praia\n",
      "Processing Record 0 of Set 257 : solwezi\n",
      "Processing Record 0 of Set 258 : kaitangata\n",
      "Processing Record 0 of Set 259 : oga\n",
      "Processing Record 0 of Set 260 : wenling\n",
      "Processing Record 0 of Set 261 : arlit\n",
      "Processing Record 0 of Set 262 : mwense\n",
      "Processing Record 0 of Set 263 : faanui\n",
      "Processing Record 0 of Set 264 : dneprovskaya\n",
      "Processing Record 0 of Set 265 : colesberg\n",
      "Processing Record 0 of Set 266 : loandjili\n",
      "Processing Record 0 of Set 267 : lingyuan\n",
      "Processing Record 0 of Set 268 : pervomayskiy\n",
      "City not found. Skipping.\n",
      "Processing Record 0 of Set 269 : kudahuvadhoo\n",
      "Processing Record 0 of Set 270 : mchinji\n",
      "City not found. Skipping.\n",
      "Processing Record 0 of Set 271 : kerman\n",
      "Processing Record 0 of Set 272 : suez\n",
      "Processing Record 0 of Set 273 : huarmey\n",
      "Processing Record 0 of Set 274 : sotouboua\n",
      "Processing Record 0 of Set 275 : swan hill\n",
      "Processing Record 0 of Set 276 : tuatapere\n",
      "Processing Record 0 of Set 277 : yumen\n",
      "Processing Record 0 of Set 278 : mantua\n",
      "Processing Record 0 of Set 279 : santa rosa\n",
      "City not found. Skipping.\n",
      "Processing Record 0 of Set 280 : tiksi\n",
      "Processing Record 0 of Set 281 : vestmannaeyjar\n",
      "Processing Record 0 of Set 282 : mayo\n",
      "Processing Record 0 of Set 283 : mizque\n",
      "Processing Record 0 of Set 284 : neuquen\n",
      "Processing Record 0 of Set 285 : katherine\n",
      "City not found. Skipping.\n",
      "Processing Record 0 of Set 286 : lethem\n",
      "Processing Record 0 of Set 287 : linjiang\n",
      "Processing Record 0 of Set 288 : erenhot\n",
      "Processing Record 0 of Set 289 : kodinsk\n",
      "Processing Record 0 of Set 290 : camacha\n",
      "Processing Record 0 of Set 291 : bandar\n",
      "Processing Record 0 of Set 292 : nemuro\n",
      "Processing Record 0 of Set 293 : raahe\n",
      "Processing Record 0 of Set 294 : malpura\n",
      "City not found. Skipping.\n",
      "Processing Record 0 of Set 295 : thunder bay\n",
      "Processing Record 0 of Set 296 : pimenta bueno\n",
      "Processing Record 0 of Set 297 : mount isa\n",
      "Processing Record 0 of Set 298 : omboue\n",
      "Processing Record 0 of Set 299 : dongsheng\n",
      "Processing Record 0 of Set 300 : turka\n",
      "Processing Record 0 of Set 301 : tlacotalpan\n",
      "Processing Record 0 of Set 302 : biloela\n",
      "Processing Record 0 of Set 303 : halifax\n",
      "Processing Record 0 of Set 304 : roblin\n",
      "Processing Record 0 of Set 305 : nizhniy odes\n",
      "Processing Record 0 of Set 306 : leningradskiy\n",
      "Processing Record 0 of Set 307 : jega\n",
      "Processing Record 0 of Set 308 : puerto leguizamo\n",
      "Processing Record 0 of Set 309 : japura\n",
      "Processing Record 0 of Set 310 : yokadouma\n",
      "Processing Record 0 of Set 311 : manicore\n",
      "Processing Record 0 of Set 312 : montepuez\n",
      "Processing Record 0 of Set 313 : bagnols-sur-ceze\n",
      "Processing Record 0 of Set 314 : gondang\n",
      "Processing Record 0 of Set 315 : trairi\n",
      "Processing Record 0 of Set 316 : richards bay\n",
      "Processing Record 0 of Set 317 : airai\n",
      "Processing Record 0 of Set 318 : rio gallegos\n",
      "Processing Record 0 of Set 319 : shizunai\n",
      "Processing Record 0 of Set 320 : shingu\n",
      "Processing Record 0 of Set 321 : rundu\n",
      "City not found. Skipping.\n",
      "Processing Record 0 of Set 322 : segovia\n"
     ]
    },
    {
     "name": "stdout",
     "output_type": "stream",
     "text": [
      "Processing Record 0 of Set 323 : berlevag\n",
      "Processing Record 0 of Set 324 : malakal\n",
      "Processing Record 0 of Set 325 : senai\n",
      "Processing Record 0 of Set 326 : kieta\n",
      "Processing Record 0 of Set 327 : bridgewater\n",
      "Processing Record 0 of Set 328 : bayan\n",
      "Processing Record 0 of Set 329 : wattegama\n",
      "Processing Record 0 of Set 330 : lethbridge\n",
      "Processing Record 0 of Set 331 : upington\n",
      "Processing Record 0 of Set 332 : hay river\n",
      "Processing Record 0 of Set 333 : pinhao\n",
      "Processing Record 0 of Set 334 : zagyvaszanto\n",
      "Processing Record 0 of Set 335 : qala\n",
      "Processing Record 0 of Set 336 : high prairie\n",
      "Processing Record 0 of Set 337 : nanchang\n",
      "Processing Record 0 of Set 338 : butte\n",
      "City not found. Skipping.\n",
      "Processing Record 0 of Set 339 : nantucket\n",
      "Processing Record 0 of Set 340 : shimoda\n",
      "Processing Record 0 of Set 341 : pombas\n",
      "Processing Record 0 of Set 342 : mirandola\n",
      "Processing Record 0 of Set 343 : ribeira grande\n",
      "Processing Record 0 of Set 344 : kazanskoye\n",
      "Processing Record 0 of Set 345 : sioux lookout\n",
      "Processing Record 0 of Set 346 : antalaha\n",
      "Processing Record 0 of Set 347 : nome\n",
      "Processing Record 0 of Set 348 : isla mujeres\n",
      "City not found. Skipping.\n",
      "City not found. Skipping.\n",
      "Processing Record 0 of Set 349 : umm lajj\n",
      "Processing Record 0 of Set 350 : kimbe\n",
      "Processing Record 0 of Set 351 : trincomalee\n",
      "Processing Record 0 of Set 352 : coahuayana\n",
      "Processing Record 0 of Set 353 : terre-de-bas\n",
      "Processing Record 0 of Set 354 : komsomolskiy\n",
      "Processing Record 0 of Set 355 : marabba\n",
      "Processing Record 0 of Set 356 : novobiryusinskiy\n",
      "Processing Record 0 of Set 357 : ukholovo\n",
      "Processing Record 0 of Set 358 : meulaboh\n",
      "Processing Record 0 of Set 359 : brae\n",
      "Processing Record 0 of Set 360 : iracoubo\n",
      "Processing Record 0 of Set 361 : cururupu\n",
      "City not found. Skipping.\n",
      "Processing Record 0 of Set 362 : cairns\n",
      "Processing Record 0 of Set 363 : zelenoborskiy\n",
      "Processing Record 0 of Set 364 : bardoli\n",
      "Processing Record 0 of Set 365 : panaba\n",
      "Processing Record 0 of Set 366 : berdigestyakh\n",
      "Processing Record 0 of Set 367 : karatau\n",
      "City not found. Skipping.\n",
      "Processing Record 0 of Set 368 : burns lake\n",
      "Processing Record 0 of Set 369 : adra\n",
      "Processing Record 0 of Set 370 : santa maria\n",
      "Processing Record 0 of Set 371 : taicheng\n",
      "Processing Record 0 of Set 372 : gualeguay\n",
      "Processing Record 0 of Set 373 : atar\n",
      "Processing Record 0 of Set 374 : wewak\n",
      "Processing Record 0 of Set 375 : willowmore\n",
      "Processing Record 0 of Set 376 : ternate\n",
      "Processing Record 0 of Set 377 : ugoofaaru\n",
      "Processing Record 0 of Set 378 : beira\n",
      "Processing Record 0 of Set 379 : san vicente\n",
      "Processing Record 0 of Set 380 : kattivakkam\n",
      "Processing Record 0 of Set 381 : lompoc\n",
      "Processing Record 0 of Set 382 : berbera\n",
      "Processing Record 0 of Set 383 : kilinochchi\n",
      "Processing Record 0 of Set 384 : mae sot\n",
      "Processing Record 0 of Set 385 : buala\n",
      "Processing Record 0 of Set 386 : rochegda\n",
      "Processing Record 0 of Set 387 : sosnovoborsk\n",
      "Processing Record 0 of Set 388 : pacific grove\n",
      "Processing Record 0 of Set 389 : kundiawa\n",
      "Processing Record 0 of Set 390 : ugljevik\n",
      "Processing Record 0 of Set 391 : bosobolo\n",
      "Processing Record 0 of Set 392 : along\n",
      "Processing Record 0 of Set 393 : raver\n",
      "Processing Record 0 of Set 394 : santa fe\n",
      "Processing Record 0 of Set 395 : san jose\n",
      "Processing Record 0 of Set 396 : horta\n",
      "Processing Record 0 of Set 397 : capitao poco\n",
      "Processing Record 0 of Set 398 : giyani\n",
      "Processing Record 0 of Set 399 : thinadhoo\n",
      "Processing Record 0 of Set 400 : mishkino\n",
      "Processing Record 0 of Set 401 : aktau\n",
      "City not found. Skipping.\n",
      "Processing Record 0 of Set 402 : fare\n",
      "Processing Record 0 of Set 403 : labuhan\n",
      "Processing Record 0 of Set 404 : surt\n",
      "Processing Record 0 of Set 405 : nanhai\n",
      "Processing Record 0 of Set 406 : sergach\n",
      "Processing Record 0 of Set 407 : blairmore\n",
      "Processing Record 0 of Set 408 : beloha\n",
      "Processing Record 0 of Set 409 : khorramshahr\n",
      "Processing Record 0 of Set 410 : dalby\n",
      "Processing Record 0 of Set 411 : los andes\n",
      "Processing Record 0 of Set 412 : luwuk\n",
      "Processing Record 0 of Set 413 : barrhead\n",
      "Processing Record 0 of Set 414 : bud\n",
      "Processing Record 0 of Set 415 : bhuj\n",
      "Processing Record 0 of Set 416 : presidente olegario\n",
      "Processing Record 0 of Set 417 : belaya gora\n",
      "Processing Record 0 of Set 418 : gulbarga\n",
      "Processing Record 0 of Set 419 : puerto escondido\n",
      "Processing Record 0 of Set 420 : neringa\n",
      "Processing Record 0 of Set 421 : maoming\n",
      "Processing Record 0 of Set 422 : pierre\n",
      "Processing Record 0 of Set 423 : masuguru\n",
      "Processing Record 0 of Set 424 : inuvik\n",
      "Processing Record 0 of Set 425 : prokuplje\n",
      "Processing Record 0 of Set 426 : storforshei\n",
      "Processing Record 0 of Set 427 : itoman\n",
      "City not found. Skipping.\n",
      "Processing Record 0 of Set 428 : oum hadjer\n",
      "Processing Record 0 of Set 429 : del rio\n",
      "Processing Record 0 of Set 430 : qrendi\n",
      "Processing Record 0 of Set 431 : vohibinany\n",
      "Processing Record 0 of Set 432 : litovko\n",
      "Processing Record 0 of Set 433 : avera\n",
      "Processing Record 0 of Set 434 : bosaso\n",
      "Processing Record 0 of Set 435 : saint-gabriel\n",
      "Processing Record 0 of Set 436 : kutum\n",
      "Processing Record 0 of Set 437 : xingcheng\n",
      "Processing Record 0 of Set 438 : kainantu\n",
      "Processing Record 0 of Set 439 : yuli\n",
      "Processing Record 0 of Set 440 : kloulklubed\n",
      "Processing Record 0 of Set 441 : seymchan\n",
      "Processing Record 0 of Set 442 : matamoros\n",
      "Processing Record 0 of Set 443 : kikwit\n",
      "Processing Record 0 of Set 444 : coquimbo\n",
      "Processing Record 0 of Set 445 : santona\n",
      "Processing Record 0 of Set 446 : jesi\n",
      "Processing Record 0 of Set 447 : raudeberg\n",
      "Processing Record 0 of Set 448 : balsas\n",
      "Processing Record 0 of Set 449 : phalaborwa\n",
      "Processing Record 0 of Set 450 : elizabeth city\n",
      "Processing Record 0 of Set 451 : padang\n",
      "Processing Record 0 of Set 452 : kemijarvi\n",
      "Processing Record 0 of Set 453 : mago\n",
      "Processing Record 0 of Set 454 : sorland\n",
      "Processing Record 0 of Set 455 : beisfjord\n",
      "City not found. Skipping.\n",
      "Processing Record 0 of Set 456 : simao\n",
      "Processing Record 0 of Set 457 : constitucion\n",
      "Processing Record 0 of Set 458 : hambantota\n",
      "Processing Record 0 of Set 459 : caranavi\n",
      "Processing Record 0 of Set 460 : jawhar\n",
      "Processing Record 0 of Set 461 : saint-augustin\n",
      "Processing Record 0 of Set 462 : saldanha\n",
      "Processing Record 0 of Set 463 : mahibadhoo\n",
      "Processing Record 0 of Set 464 : yakuplu\n",
      "Processing Record 0 of Set 465 : iralaya\n",
      "Processing Record 0 of Set 466 : byron bay\n",
      "Processing Record 0 of Set 467 : viedma\n",
      "City not found. Skipping.\n",
      "Processing Record 0 of Set 468 : singaraja\n",
      "Processing Record 0 of Set 469 : mitu\n",
      "Processing Record 0 of Set 470 : vytegra\n",
      "Processing Record 0 of Set 471 : providencia\n",
      "Processing Record 0 of Set 472 : yenagoa\n",
      "Processing Record 0 of Set 473 : camalu\n",
      "Processing Record 0 of Set 474 : luanda\n",
      "Processing Record 0 of Set 475 : dzilam gonzalez\n",
      "Processing Record 0 of Set 476 : sitka\n",
      "Processing Record 0 of Set 477 : batagay-alyta\n",
      "Processing Record 0 of Set 478 : mizdah\n",
      "Processing Record 0 of Set 479 : profitis ilias\n",
      "Processing Record 0 of Set 480 : poindimie\n",
      "Processing Record 0 of Set 481 : sligo\n",
      "Processing Record 0 of Set 482 : kualakapuas\n",
      "Processing Record 0 of Set 483 : batticaloa\n",
      "Processing Record 0 of Set 484 : bo phloi\n",
      "Processing Record 0 of Set 485 : morehead\n",
      "Processing Record 0 of Set 486 : college\n",
      "City not found. Skipping.\n",
      "Processing Record 0 of Set 487 : sao joao batista\n",
      "Processing Record 0 of Set 488 : dharchula\n",
      "Processing Record 0 of Set 489 : narsaq\n",
      "City not found. Skipping.\n",
      "Processing Record 0 of Set 490 : corpus christi\n",
      "Processing Record 0 of Set 491 : invermere\n",
      "Processing Record 0 of Set 492 : olafsvik\n",
      "Processing Record 0 of Set 493 : itarantim\n",
      "Processing Record 0 of Set 494 : lodja\n",
      "Processing Record 0 of Set 495 : camajuani\n",
      "Processing Record 0 of Set 496 : aljezur\n",
      "Processing Record 0 of Set 497 : ipaussu\n",
      "Processing Record 0 of Set 498 : shebalino\n",
      "Processing Record 0 of Set 499 : novyy urengoy\n",
      "Processing Record 0 of Set 500 : abalak\n",
      "Processing Record 0 of Set 501 : mandalgovi\n",
      "Processing Record 0 of Set 502 : san francisco\n",
      "Processing Record 0 of Set 503 : moscow\n",
      "Processing Record 0 of Set 504 : port shepstone\n",
      "City not found. Skipping.\n",
      "Processing Record 0 of Set 505 : reinosa\n",
      "Processing Record 0 of Set 506 : rehoboth\n",
      "Processing Record 0 of Set 507 : roma\n",
      "Processing Record 0 of Set 508 : jacareacanga\n",
      "-----------------------\n",
      "Data Retrieval Complete\n",
      "-----------------------\n"
     ]
    }
   ],
   "source": [
    "print(\"-------------------------\") \n",
    "print(\"Beginning Data Retrieval \")\n",
    "print(\"-------------------------\") \n",
    "\n",
    "url = \"http://api.openweathermap.org/data/2.5/weather?\"\n",
    "units = \"imperial\"\n",
    "weather_url = f'{url}appid={weather_api_key}&units={units}&q='\n",
    "\n",
    "for index, city in enumerate(cities, start = 1):\n",
    "    try:\n",
    "        response = requests.get(weather_url + city).json()\n",
    "        city_list.append(response[\"name\"])\n",
    "        cloudy_list.append(response[\"clouds\"][\"all\"])\n",
    "        country_list.append(response[\"sys\"][\"country\"])\n",
    "        date_list.append(response[\"dt\"])\n",
    "        humidity_list.append(response[\"main\"][\"humidity\"])\n",
    "        lat_list.append(response[\"coord\"][\"lat\"])\n",
    "        lng_list.append(response[\"coord\"][\"lon\"])\n",
    "        max_temp_list.append(response['main']['temp_max'])\n",
    "        wind_speed_list.append(response[\"wind\"][\"speed\"])\n",
    "        \n",
    "        if index > 49:\n",
    "            index = 0\n",
    "            counter = counter + 1\n",
    "        else:\n",
    "            index = index + 1\n",
    "            \n",
    "        print(f\"Processing Record {index} of Set {counter} : {city}\")\n",
    "   \n",
    "    except(KeyError, IndexError):\n",
    "        print(\"City not found. Skipping.\")\n",
    "        \n",
    "print(\"-----------------------\")\n",
    "print(\"Data Retrieval Complete\")\n",
    "print(\"-----------------------\")"
   ]
  },
  {
   "cell_type": "markdown",
   "metadata": {},
   "source": [
    "### Convert Raw Data to DataFrame\n",
    "* Export the city data into a .csv.\n",
    "* Display the DataFrame"
   ]
  },
  {
   "cell_type": "code",
   "execution_count": 5,
   "metadata": {},
   "outputs": [
    {
     "data": {
      "text/html": [
       "<div>\n",
       "<style scoped>\n",
       "    .dataframe tbody tr th:only-of-type {\n",
       "        vertical-align: middle;\n",
       "    }\n",
       "\n",
       "    .dataframe tbody tr th {\n",
       "        vertical-align: top;\n",
       "    }\n",
       "\n",
       "    .dataframe thead th {\n",
       "        text-align: right;\n",
       "    }\n",
       "</style>\n",
       "<table border=\"1\" class=\"dataframe\">\n",
       "  <thead>\n",
       "    <tr style=\"text-align: right;\">\n",
       "      <th></th>\n",
       "      <th>City</th>\n",
       "      <th>Lat</th>\n",
       "      <th>Lng</th>\n",
       "      <th>Max Temp</th>\n",
       "      <th>Humidity</th>\n",
       "      <th>Wind Speed</th>\n",
       "      <th>Cloudiness</th>\n",
       "      <th>Country</th>\n",
       "      <th>Date</th>\n",
       "    </tr>\n",
       "  </thead>\n",
       "  <tbody>\n",
       "    <tr>\n",
       "      <th>0</th>\n",
       "      <td>Pandan Niog</td>\n",
       "      <td>6.2282</td>\n",
       "      <td>120.5631</td>\n",
       "      <td>83.14</td>\n",
       "      <td>70</td>\n",
       "      <td>4.07</td>\n",
       "      <td>17</td>\n",
       "      <td>PH</td>\n",
       "      <td>1619741475</td>\n",
       "    </tr>\n",
       "    <tr>\n",
       "      <th>1</th>\n",
       "      <td>Chui</td>\n",
       "      <td>-33.6971</td>\n",
       "      <td>-53.4616</td>\n",
       "      <td>56.86</td>\n",
       "      <td>77</td>\n",
       "      <td>3.09</td>\n",
       "      <td>0</td>\n",
       "      <td>UY</td>\n",
       "      <td>1619741475</td>\n",
       "    </tr>\n",
       "    <tr>\n",
       "      <th>2</th>\n",
       "      <td>Punta Arenas</td>\n",
       "      <td>-53.1500</td>\n",
       "      <td>-70.9167</td>\n",
       "      <td>41.00</td>\n",
       "      <td>93</td>\n",
       "      <td>8.05</td>\n",
       "      <td>90</td>\n",
       "      <td>CL</td>\n",
       "      <td>1619741476</td>\n",
       "    </tr>\n",
       "    <tr>\n",
       "      <th>3</th>\n",
       "      <td>Puerto Ayora</td>\n",
       "      <td>-0.7393</td>\n",
       "      <td>-90.3518</td>\n",
       "      <td>76.62</td>\n",
       "      <td>80</td>\n",
       "      <td>9.04</td>\n",
       "      <td>46</td>\n",
       "      <td>EC</td>\n",
       "      <td>1619741476</td>\n",
       "    </tr>\n",
       "    <tr>\n",
       "      <th>4</th>\n",
       "      <td>Ancud</td>\n",
       "      <td>-41.8697</td>\n",
       "      <td>-73.8203</td>\n",
       "      <td>57.99</td>\n",
       "      <td>88</td>\n",
       "      <td>16.11</td>\n",
       "      <td>75</td>\n",
       "      <td>CL</td>\n",
       "      <td>1619741476</td>\n",
       "    </tr>\n",
       "  </tbody>\n",
       "</table>\n",
       "</div>"
      ],
      "text/plain": [
       "           City      Lat       Lng  Max Temp  Humidity  Wind Speed  \\\n",
       "0   Pandan Niog   6.2282  120.5631     83.14        70        4.07   \n",
       "1          Chui -33.6971  -53.4616     56.86        77        3.09   \n",
       "2  Punta Arenas -53.1500  -70.9167     41.00        93        8.05   \n",
       "3  Puerto Ayora  -0.7393  -90.3518     76.62        80        9.04   \n",
       "4         Ancud -41.8697  -73.8203     57.99        88       16.11   \n",
       "\n",
       "   Cloudiness Country        Date  \n",
       "0          17      PH  1619741475  \n",
       "1           0      UY  1619741475  \n",
       "2          90      CL  1619741476  \n",
       "3          46      EC  1619741476  \n",
       "4          75      CL  1619741476  "
      ]
     },
     "execution_count": 5,
     "metadata": {},
     "output_type": "execute_result"
    }
   ],
   "source": [
    "weather_data = pd.DataFrame({\"City\": city_list,\n",
    "                            \"Lat\": lat_list,\n",
    "                            \"Lng\": lng_list,\n",
    "                            \"Max Temp\": max_temp_list,\n",
    "                            \"Humidity\": humidity_list,\n",
    "                            \"Wind Speed\": wind_speed_list,\n",
    "                            \"Cloudiness\":cloudy_list,\n",
    "                            \"Country\": country_list,\n",
    "                            \"Date\": date_list\n",
    "                            })\n",
    "weather_data.head()"
   ]
  },
  {
   "cell_type": "code",
   "execution_count": 6,
   "metadata": {},
   "outputs": [
    {
     "data": {
      "text/html": [
       "<div>\n",
       "<style scoped>\n",
       "    .dataframe tbody tr th:only-of-type {\n",
       "        vertical-align: middle;\n",
       "    }\n",
       "\n",
       "    .dataframe tbody tr th {\n",
       "        vertical-align: top;\n",
       "    }\n",
       "\n",
       "    .dataframe thead th {\n",
       "        text-align: right;\n",
       "    }\n",
       "</style>\n",
       "<table border=\"1\" class=\"dataframe\">\n",
       "  <thead>\n",
       "    <tr style=\"text-align: right;\">\n",
       "      <th></th>\n",
       "      <th>City</th>\n",
       "      <th>Lat</th>\n",
       "      <th>Lng</th>\n",
       "      <th>Max Temp</th>\n",
       "      <th>Humidity</th>\n",
       "      <th>Wind Speed</th>\n",
       "      <th>Cloudiness</th>\n",
       "      <th>Country</th>\n",
       "      <th>Date</th>\n",
       "    </tr>\n",
       "  </thead>\n",
       "  <tbody>\n",
       "    <tr>\n",
       "      <th>0</th>\n",
       "      <td>Pandan Niog</td>\n",
       "      <td>6.2282</td>\n",
       "      <td>120.5631</td>\n",
       "      <td>83.14</td>\n",
       "      <td>70</td>\n",
       "      <td>4.07</td>\n",
       "      <td>17</td>\n",
       "      <td>PH</td>\n",
       "      <td>1619741475</td>\n",
       "    </tr>\n",
       "    <tr>\n",
       "      <th>1</th>\n",
       "      <td>Chui</td>\n",
       "      <td>-33.6971</td>\n",
       "      <td>-53.4616</td>\n",
       "      <td>56.86</td>\n",
       "      <td>77</td>\n",
       "      <td>3.09</td>\n",
       "      <td>0</td>\n",
       "      <td>UY</td>\n",
       "      <td>1619741475</td>\n",
       "    </tr>\n",
       "    <tr>\n",
       "      <th>2</th>\n",
       "      <td>Punta Arenas</td>\n",
       "      <td>-53.1500</td>\n",
       "      <td>-70.9167</td>\n",
       "      <td>41.00</td>\n",
       "      <td>93</td>\n",
       "      <td>8.05</td>\n",
       "      <td>90</td>\n",
       "      <td>CL</td>\n",
       "      <td>1619741476</td>\n",
       "    </tr>\n",
       "    <tr>\n",
       "      <th>3</th>\n",
       "      <td>Puerto Ayora</td>\n",
       "      <td>-0.7393</td>\n",
       "      <td>-90.3518</td>\n",
       "      <td>76.62</td>\n",
       "      <td>80</td>\n",
       "      <td>9.04</td>\n",
       "      <td>46</td>\n",
       "      <td>EC</td>\n",
       "      <td>1619741476</td>\n",
       "    </tr>\n",
       "    <tr>\n",
       "      <th>4</th>\n",
       "      <td>Ancud</td>\n",
       "      <td>-41.8697</td>\n",
       "      <td>-73.8203</td>\n",
       "      <td>57.99</td>\n",
       "      <td>88</td>\n",
       "      <td>16.11</td>\n",
       "      <td>75</td>\n",
       "      <td>CL</td>\n",
       "      <td>1619741476</td>\n",
       "    </tr>\n",
       "  </tbody>\n",
       "</table>\n",
       "</div>"
      ],
      "text/plain": [
       "           City      Lat       Lng  Max Temp  Humidity  Wind Speed  \\\n",
       "0   Pandan Niog   6.2282  120.5631     83.14        70        4.07   \n",
       "1          Chui -33.6971  -53.4616     56.86        77        3.09   \n",
       "2  Punta Arenas -53.1500  -70.9167     41.00        93        8.05   \n",
       "3  Puerto Ayora  -0.7393  -90.3518     76.62        80        9.04   \n",
       "4         Ancud -41.8697  -73.8203     57.99        88       16.11   \n",
       "\n",
       "   Cloudiness Country        Date  \n",
       "0          17      PH  1619741475  \n",
       "1           0      UY  1619741475  \n",
       "2          90      CL  1619741476  \n",
       "3          46      EC  1619741476  \n",
       "4          75      CL  1619741476  "
      ]
     },
     "execution_count": 6,
     "metadata": {},
     "output_type": "execute_result"
    }
   ],
   "source": [
    "weather_data.to_csv('../output_data/weather_data.csv')\n",
    "weather_data.head()"
   ]
  },
  {
   "cell_type": "markdown",
   "metadata": {},
   "source": [
    "## Inspect the data and remove the cities where the humidity > 100%.\n",
    "----\n",
    "Skip this step if there are no cities that have humidity > 100%. "
   ]
  },
  {
   "cell_type": "code",
   "execution_count": 7,
   "metadata": {},
   "outputs": [
    {
     "data": {
      "text/plain": [
       "100"
      ]
     },
     "execution_count": 7,
     "metadata": {},
     "output_type": "execute_result"
    }
   ],
   "source": [
    "weather_data['Humidity'].max()"
   ]
  },
  {
   "cell_type": "code",
   "execution_count": 17,
   "metadata": {},
   "outputs": [
    {
     "data": {
      "text/plain": [
       "Int64Index([], dtype='int64')"
      ]
     },
     "execution_count": 17,
     "metadata": {},
     "output_type": "execute_result"
    }
   ],
   "source": [
    "#  Get the indices of cities that have humidity over 100%.\n"
   ]
  },
  {
   "cell_type": "code",
   "execution_count": 19,
   "metadata": {
    "collapsed": true
   },
   "outputs": [
    {
     "data": {
      "text/html": [
       "<div>\n",
       "<style scoped>\n",
       "    .dataframe tbody tr th:only-of-type {\n",
       "        vertical-align: middle;\n",
       "    }\n",
       "\n",
       "    .dataframe tbody tr th {\n",
       "        vertical-align: top;\n",
       "    }\n",
       "\n",
       "    .dataframe thead th {\n",
       "        text-align: right;\n",
       "    }\n",
       "</style>\n",
       "<table border=\"1\" class=\"dataframe\">\n",
       "  <thead>\n",
       "    <tr style=\"text-align: right;\">\n",
       "      <th></th>\n",
       "      <th>City</th>\n",
       "      <th>Lat</th>\n",
       "      <th>Lng</th>\n",
       "      <th>Max Temp</th>\n",
       "      <th>Humidity</th>\n",
       "      <th>Cloudiness</th>\n",
       "      <th>Wind Speed</th>\n",
       "      <th>Country</th>\n",
       "      <th>Date</th>\n",
       "    </tr>\n",
       "  </thead>\n",
       "  <tbody>\n",
       "    <tr>\n",
       "      <td>0</td>\n",
       "      <td>butaritari</td>\n",
       "      <td>3.07</td>\n",
       "      <td>172.79</td>\n",
       "      <td>83.32</td>\n",
       "      <td>74</td>\n",
       "      <td>84</td>\n",
       "      <td>10.42</td>\n",
       "      <td>KI</td>\n",
       "      <td>1593605283</td>\n",
       "    </tr>\n",
       "    <tr>\n",
       "      <td>1</td>\n",
       "      <td>yerbogachen</td>\n",
       "      <td>61.28</td>\n",
       "      <td>108.01</td>\n",
       "      <td>79.52</td>\n",
       "      <td>58</td>\n",
       "      <td>20</td>\n",
       "      <td>7.70</td>\n",
       "      <td>RU</td>\n",
       "      <td>1593605121</td>\n",
       "    </tr>\n",
       "    <tr>\n",
       "      <td>2</td>\n",
       "      <td>cape town</td>\n",
       "      <td>-33.93</td>\n",
       "      <td>18.42</td>\n",
       "      <td>73.00</td>\n",
       "      <td>77</td>\n",
       "      <td>27</td>\n",
       "      <td>4.70</td>\n",
       "      <td>ZA</td>\n",
       "      <td>1593605039</td>\n",
       "    </tr>\n",
       "    <tr>\n",
       "      <td>3</td>\n",
       "      <td>touba</td>\n",
       "      <td>8.28</td>\n",
       "      <td>-7.68</td>\n",
       "      <td>79.97</td>\n",
       "      <td>75</td>\n",
       "      <td>82</td>\n",
       "      <td>3.58</td>\n",
       "      <td>CI</td>\n",
       "      <td>1593605284</td>\n",
       "    </tr>\n",
       "    <tr>\n",
       "      <td>4</td>\n",
       "      <td>jamestown</td>\n",
       "      <td>42.10</td>\n",
       "      <td>-79.24</td>\n",
       "      <td>64.00</td>\n",
       "      <td>88</td>\n",
       "      <td>1</td>\n",
       "      <td>6.93</td>\n",
       "      <td>US</td>\n",
       "      <td>1593605284</td>\n",
       "    </tr>\n",
       "  </tbody>\n",
       "</table>\n",
       "</div>"
      ],
      "text/plain": [
       "          City    Lat     Lng  Max Temp  Humidity  Cloudiness  Wind Speed  \\\n",
       "0   butaritari   3.07  172.79     83.32        74          84       10.42   \n",
       "1  yerbogachen  61.28  108.01     79.52        58          20        7.70   \n",
       "2    cape town -33.93   18.42     73.00        77          27        4.70   \n",
       "3        touba   8.28   -7.68     79.97        75          82        3.58   \n",
       "4    jamestown  42.10  -79.24     64.00        88           1        6.93   \n",
       "\n",
       "  Country        Date  \n",
       "0      KI  1593605283  \n",
       "1      RU  1593605121  \n",
       "2      ZA  1593605039  \n",
       "3      CI  1593605284  \n",
       "4      US  1593605284  "
      ]
     },
     "execution_count": 19,
     "metadata": {},
     "output_type": "execute_result"
    }
   ],
   "source": [
    "# Make a new DataFrame equal to the city data to drop all humidity outliers by index.\n",
    "# Passing \"inplace=False\" will make a copy of the city_data DataFrame, which we call \"clean_city_data\".\n"
   ]
  },
  {
   "cell_type": "markdown",
   "metadata": {},
   "source": [
    "## Plotting the Data\n",
    "* Use proper labeling of the plots using plot titles (including date of analysis) and axes labels.\n",
    "* Save the plotted figures as .pngs."
   ]
  },
  {
   "cell_type": "markdown",
   "metadata": {},
   "source": [
    "## Latitude vs. Temperature Plot"
   ]
  },
  {
   "cell_type": "code",
   "execution_count": 35,
   "metadata": {},
   "outputs": [
    {
     "data": {
      "image/png": "[encoded data removed]",
      "text/plain": [
       "<Figure size 432x288 with 1 Axes>"
      ]
     },
     "metadata": {
      "needs_background": "light"
     },
     "output_type": "display_data"
    }
   ],
   "source": [
    "x = weather_data[\"Lat\"]\n",
    "y = weather_data[\"Max Temp\"]\n",
    "\n",
    "plt.scatter(x, y, marker = 'o', color = 'b', edgecolor = \"black\")\n",
    "plt.title(\"City Latitude vs. Max Temperature (04/01/20)\")\n",
    "plt.xlabel(\"Latitude\")\n",
    "plt.ylabel(\"Max Temperarture (F)\")\n",
    "plt.grid(True) \n",
    "plt.savefig('Max_Temp_Lat.png')\n",
    "\n",
    "plt.show()"
   ]
  },
  {
   "cell_type": "markdown",
   "metadata": {},
   "source": [
    "## Latitude vs. Humidity Plot"
   ]
  },
  {
   "cell_type": "code",
   "execution_count": 36,
   "metadata": {},
   "outputs": [
    {
     "data": {
      "image/png": "[encoded data removed]",
      "text/plain": [
       "<Figure size 432x288 with 1 Axes>"
      ]
     },
     "metadata": {
      "needs_background": "light"
     },
     "output_type": "display_data"
    }
   ],
   "source": [
    "x = weather_data[\"Lat\"]\n",
    "y = weather_data[\"Humidity\"]\n",
    "\n",
    "plt.scatter(x, y, marker = 'o', color = 'b', edgecolor = \"black\")\n",
    "plt.title(\"City Latitude vs. Humidity (04/01/20)\")\n",
    "plt.xlabel(\"Latitude\")\n",
    "plt.ylabel(\"Humidity\")\n",
    "plt.grid(True) \n",
    "plt.savefig('Humid_Lat.png')\n",
    "\n",
    "plt.show()"
   ]
  },
  {
   "cell_type": "markdown",
   "metadata": {},
   "source": [
    "## Latitude vs. Cloudiness Plot"
   ]
  },
  {
   "cell_type": "code",
   "execution_count": 37,
   "metadata": {},
   "outputs": [
    {
     "data": {
      "image/png": "[encoded data removed]",
      "text/plain": [
       "<Figure size 432x288 with 1 Axes>"
      ]
     },
     "metadata": {
      "needs_background": "light"
     },
     "output_type": "display_data"
    }
   ],
   "source": [
    "x = weather_data[\"Lat\"]\n",
    "y = weather_data[\"Cloudiness\"]\n",
    "\n",
    "plt.scatter(x, y, marker = 'o', color = 'b', edgecolor = \"black\")\n",
    "plt.title(\"City Latitude vs. Cloudiness (04/01/20)\")\n",
    "plt.xlabel(\"Latitude\")\n",
    "plt.ylabel(\"Cloudiness \")\n",
    "plt.grid(True) \n",
    "plt.savefig('Cloud_Lat.png')\n",
    "\n",
    "plt.show()"
   ]
  },
  {
   "cell_type": "markdown",
   "metadata": {},
   "source": [
    "## Latitude vs. Wind Speed Plot"
   ]
  },
  {
   "cell_type": "code",
   "execution_count": 38,
   "metadata": {},
   "outputs": [
    {
     "data": {
      "image/png": "[encoded data removed]",
      "text/plain": [
       "<Figure size 432x288 with 1 Axes>"
      ]
     },
     "metadata": {
      "needs_background": "light"
     },
     "output_type": "display_data"
    }
   ],
   "source": [
    "x = weather_data[\"Lat\"]\n",
    "y = weather_data[\"Wind Speed\"]\n",
    "\n",
    "plt.scatter(x, y, marker = 'o', color = 'b', edgecolor = \"black\")\n",
    "plt.title(\"City Latitude vs. Wind Speed (04/01/20)\")\n",
    "plt.xlabel(\"Latitude\")\n",
    "plt.ylabel(\"Wind Speed (MPH)\")\n",
    "plt.grid(True) \n",
    "plt.savefig('Wind_Lat.png')\n",
    "\n",
    "plt.show()"
   ]
  },
  {
   "cell_type": "markdown",
   "metadata": {},
   "source": [
    "## Linear Regression"
   ]
  },
  {
   "cell_type": "code",
   "execution_count": 13,
   "metadata": {},
   "outputs": [],
   "source": [
    "north_hem = weather_data.loc[weather_data[\"Lat\"] >= 0.0]\n",
    "north_hem.reset_index(inplace=True)\n",
    "\n",
    "south_hem = weather_data.loc[weather_data[\"Lat\"] < 0.0]\n",
    "south_hem.reset_index(inplace=True)"
   ]
  },
  {
   "cell_type": "markdown",
   "metadata": {},
   "source": [
    "####  Northern Hemisphere - Max Temp vs. Latitude Linear Regression"
   ]
  },
  {
   "cell_type": "code",
   "execution_count": 39,
   "metadata": {},
   "outputs": [
    {
     "name": "stdout",
     "output_type": "stream",
     "text": [
      "the r-value is: 0.7950367705838283\n"
     ]
    },
    {
     "data": {
      "image/png": "[encoded data removed]",
      "text/plain": [
       "<Figure size 432x288 with 1 Axes>"
      ]
     },
     "metadata": {
      "needs_background": "light"
     },
     "output_type": "display_data"
    }
   ],
   "source": [
    "x = north_hem[\"Lat\"]\n",
    "y = north_hem[\"Max Temp\"]\n",
    "\n",
    "(slope, intercept, rvalue, pvalue, stderr) = linregress(x, y)\n",
    "regress_values = x * slope + intercept\n",
    "line_eq = \"y = \" + str(round(slope,2)) + \"x + \" + str(round(intercept,2)) \n",
    "\n",
    "print(f\"the r-value is: {rvalue**2}\")\n",
    "\n",
    "plt.scatter(x, y, marker = 'o', color = 'b', edgecolor = \"black\")\n",
    "plt.plot(x, regress_values, \"r-\")\n",
    "plt.annotate(line_eq, (0, 30), color='red', fontsize=15)\n",
    "plt.xlabel(\"Latitude\")\n",
    "plt.ylabel(\"Max Temperarture (F)\")\n",
    "plt.savefig('North_Max_temp')\n",
    "\n",
    "plt.show()"
   ]
  },
  {
   "cell_type": "markdown",
   "metadata": {},
   "source": [
    "####  Southern Hemisphere - Max Temp vs. Latitude Linear Regression"
   ]
  },
  {
   "cell_type": "code",
   "execution_count": 40,
   "metadata": {},
   "outputs": [
    {
     "name": "stdout",
     "output_type": "stream",
     "text": [
      "the r-value is: 0.5464396348962951\n"
     ]
    },
    {
     "data": {
      "image/png": "[encoded data removed]",
      "text/plain": [
       "<Figure size 432x288 with 1 Axes>"
      ]
     },
     "metadata": {
      "needs_background": "light"
     },
     "output_type": "display_data"
    }
   ],
   "source": [
    "x = south_hem[\"Lat\"]\n",
    "y = south_hem[\"Max Temp\"]\n",
    "\n",
    "(slope, intercept, rvalue, pvalue, stderr) = linregress(x, y)\n",
    "regress_values = x * slope + intercept\n",
    "line_eq = \"y = \" + str(round(slope,2)) + \"x + \" + str(round(intercept,2)) \n",
    "\n",
    "print(f\"the r-value is: {rvalue**2}\")\n",
    "\n",
    "plt.scatter(x, y, marker = 'o', color = 'b', edgecolor = \"black\")\n",
    "plt.plot(x, regress_values, \"r-\")\n",
    "plt.annotate(line_eq, (0, 30), color='red', fontsize=15)\n",
    "plt.xlabel(\"Latitude\")\n",
    "plt.ylabel(\"Max Temperarture (F)\")\n",
    "plt.savefig('South_Max_temp')\n",
    "\n",
    "plt.show()"
   ]
  },
  {
   "cell_type": "markdown",
   "metadata": {},
   "source": [
    "####  Northern Hemisphere - Humidity (%) vs. Latitude Linear Regression"
   ]
  },
  {
   "cell_type": "code",
   "execution_count": 41,
   "metadata": {},
   "outputs": [
    {
     "name": "stdout",
     "output_type": "stream",
     "text": [
      "the r-value is: 0.012840665179352282\n"
     ]
    },
    {
     "data": {
      "image/png": "[encoded data removed]",
      "text/plain": [
       "<Figure size 432x288 with 1 Axes>"
      ]
     },
     "metadata": {
      "needs_background": "light"
     },
     "output_type": "display_data"
    }
   ],
   "source": [
    "x = north_hem[\"Lat\"]\n",
    "y = north_hem[\"Humidity\"]\n",
    "\n",
    "(slope, intercept, rvalue, pvalue, stderr) = linregress(x, y)\n",
    "regress_values = x * slope + intercept\n",
    "line_eq = \"y = \" + str(round(slope,2)) + \"x + \" + str(round(intercept,2)) \n",
    "\n",
    "print(f\"the r-value is: {rvalue**2}\")\n",
    "\n",
    "plt.scatter(x, y, marker = 'o', color = 'b', edgecolor = \"black\")\n",
    "plt.plot(x, regress_values, \"r-\")\n",
    "plt.annotate(line_eq, (0, 30), color='red', fontsize=15)\n",
    "plt.xlabel(\"Latitude\")\n",
    "plt.ylabel(\"Humidity\")\n",
    "plt.savefig('North_Humid')\n",
    "\n",
    "plt.show()"
   ]
  },
  {
   "cell_type": "markdown",
   "metadata": {},
   "source": [
    "####  Southern Hemisphere - Humidity (%) vs. Latitude Linear Regression"
   ]
  },
  {
   "cell_type": "code",
   "execution_count": 42,
   "metadata": {},
   "outputs": [
    {
     "name": "stdout",
     "output_type": "stream",
     "text": [
      "the r-value is: 0.03748095245233642\n"
     ]
    },
    {
     "data": {
      "image/png": "[encoded data removed]",
      "text/plain": [
       "<Figure size 432x288 with 1 Axes>"
      ]
     },
     "metadata": {
      "needs_background": "light"
     },
     "output_type": "display_data"
    }
   ],
   "source": [
    "x = south_hem[\"Lat\"]\n",
    "y = south_hem[\"Humidity\"]\n",
    "\n",
    "(slope, intercept, rvalue, pvalue, stderr) = linregress(x, y)\n",
    "regress_values = x * slope + intercept\n",
    "line_eq = \"y = \" + str(round(slope,2)) + \"x + \" + str(round(intercept,2)) \n",
    "\n",
    "print(f\"the r-value is: {rvalue**2}\")\n",
    "\n",
    "plt.scatter(x, y, marker = 'o', color = 'b', edgecolor = \"black\")\n",
    "plt.plot(x, regress_values, \"r-\")\n",
    "plt.annotate(line_eq, (0, 30), color='red', fontsize=15)\n",
    "plt.xlabel(\"Latitude\")\n",
    "plt.ylabel(\"Humidity\")\n",
    "plt.savefig('South_Humid')\n",
    "\n",
    "plt.show()"
   ]
  },
  {
   "cell_type": "markdown",
   "metadata": {},
   "source": [
    "####  Northern Hemisphere - Cloudiness (%) vs. Latitude Linear Regression"
   ]
  },
  {
   "cell_type": "code",
   "execution_count": 43,
   "metadata": {},
   "outputs": [
    {
     "name": "stdout",
     "output_type": "stream",
     "text": [
      "the r-value is: 0.020951794719098284\n"
     ]
    },
    {
     "data": {
      "image/png": "[encoded data removed]",
      "text/plain": [
       "<Figure size 432x288 with 1 Axes>"
      ]
     },
     "metadata": {
      "needs_background": "light"
     },
     "output_type": "display_data"
    }
   ],
   "source": [
    "x = north_hem[\"Lat\"]\n",
    "y = north_hem[\"Cloudiness\"]\n",
    "\n",
    "(slope, intercept, rvalue, pvalue, stderr) = linregress(x, y)\n",
    "regress_values = x * slope + intercept\n",
    "line_eq = \"y = \" + str(round(slope,2)) + \"x + \" + str(round(intercept,2)) \n",
    "\n",
    "print(f\"the r-value is: {rvalue**2}\")\n",
    "\n",
    "plt.scatter(x, y, marker = 'o', color = 'b', edgecolor = \"black\")\n",
    "plt.plot(x, regress_values, \"r-\")\n",
    "plt.annotate(line_eq, (0, 30), color='red', fontsize=15)\n",
    "plt.xlabel(\"Latitude\")\n",
    "plt.ylabel(\"Cloudiness\")\n",
    "plt.savefig('North_Cloud')\n",
    "\n",
    "plt.show()"
   ]
  },
  {
   "cell_type": "markdown",
   "metadata": {},
   "source": [
    "####  Southern Hemisphere - Cloudiness (%) vs. Latitude Linear Regression"
   ]
  },
  {
   "cell_type": "code",
   "execution_count": 44,
   "metadata": {},
   "outputs": [
    {
     "name": "stdout",
     "output_type": "stream",
     "text": [
      "the r-value is: 0.5464396348962951\n"
     ]
    },
    {
     "data": {
      "image/png": "[encoded data removed]",
      "text/plain": [
       "<Figure size 432x288 with 1 Axes>"
      ]
     },
     "metadata": {
      "needs_background": "light"
     },
     "output_type": "display_data"
    }
   ],
   "source": [
    "x = south_hem[\"Lat\"]\n",
    "y = south_hem[\"Max Temp\"]\n",
    "\n",
    "(slope, intercept, rvalue, pvalue, stderr) = linregress(x, y)\n",
    "regress_values = x * slope + intercept\n",
    "line_eq = \"y = \" + str(round(slope,2)) + \"x + \" + str(round(intercept,2)) \n",
    "\n",
    "print(f\"the r-value is: {rvalue**2}\")\n",
    "\n",
    "plt.scatter(x, y, marker = 'o', color = 'b', edgecolor = \"black\")\n",
    "plt.plot(x, regress_values, \"r-\")\n",
    "plt.annotate(line_eq, (0, 30), color='red', fontsize=15)\n",
    "plt.xlabel(\"Latitude\")\n",
    "plt.ylabel(\"Cloudiness\")\n",
    "plt.savefig('South_Cloud')\n",
    "\n",
    "plt.show()"
   ]
  },
  {
   "cell_type": "markdown",
   "metadata": {},
   "source": [
    "####  Northern Hemisphere - Wind Speed (mph) vs. Latitude Linear Regression"
   ]
  },
  {
   "cell_type": "code",
   "execution_count": 45,
   "metadata": {},
   "outputs": [
    {
     "name": "stdout",
     "output_type": "stream",
     "text": [
      "the r-value is: 0.0131320876219651\n"
     ]
    },
    {
     "data": {
      "image/png": "[encoded data removed]",
      "text/plain": [
       "<Figure size 432x288 with 1 Axes>"
      ]
     },
     "metadata": {
      "needs_background": "light"
     },
     "output_type": "display_data"
    }
   ],
   "source": [
    "x = north_hem[\"Lat\"]\n",
    "y = north_hem[\"Wind Speed\"]\n",
    "\n",
    "(slope, intercept, rvalue, pvalue, stderr) = linregress(x, y)\n",
    "regress_values = x * slope + intercept\n",
    "line_eq = \"y = \" + str(round(slope,2)) + \"x + \" + str(round(intercept,2)) \n",
    "\n",
    "print(f\"the r-value is: {rvalue**2}\")\n",
    "\n",
    "plt.scatter(x, y, marker = 'o', color = 'b', edgecolor = \"black\")\n",
    "plt.plot(x, regress_values, \"r-\")\n",
    "plt.annotate(line_eq, (0, 30), color='red', fontsize=15)\n",
    "plt.xlabel(\"Latitude\")\n",
    "plt.ylabel(\"WindSpeed\")\n",
    "plt.savefig('North_Wind')\n",
    "\n",
    "plt.show()"
   ]
  },
  {
   "cell_type": "markdown",
   "metadata": {},
   "source": [
    "####  Southern Hemisphere - Wind Speed (mph) vs. Latitude Linear Regression"
   ]
  },
  {
   "cell_type": "code",
   "execution_count": 46,
   "metadata": {},
   "outputs": [
    {
     "name": "stdout",
     "output_type": "stream",
     "text": [
      "the r-value is: 0.10638775148663028\n"
     ]
    },
    {
     "data": {
      "image/png": "[encoded data removed]",
      "text/plain": [
       "<Figure size 432x288 with 1 Axes>"
      ]
     },
     "metadata": {
      "needs_background": "light"
     },
     "output_type": "display_data"
    }
   ],
   "source": [
    "x = south_hem[\"Lat\"]\n",
    "y = south_hem[\"Wind Speed\"]\n",
    "\n",
    "(slope, intercept, rvalue, pvalue, stderr) = linregress(x, y)\n",
    "regress_values = x * slope + intercept\n",
    "line_eq = \"y = \" + str(round(slope,2)) + \"x + \" + str(round(intercept,2)) \n",
    "\n",
    "print(f\"the r-value is: {rvalue**2}\")\n",
    "\n",
    "plt.scatter(x, y, marker = 'o', color = 'b', edgecolor = \"black\")\n",
    "plt.plot(x, regress_values, \"r-\")\n",
    "plt.annotate(line_eq, (0, 30), color='red', fontsize=15)\n",
    "plt.xlabel(\"Latitude\")\n",
    "plt.ylabel(\"WindSpeed\")\n",
    "plt.savefig('South_Wind')\n",
    "\n",
    "plt.show()"
   ]
  },
  {
   "cell_type": "code",
   "execution_count": null,
   "metadata": {},
   "outputs": [],
   "source": []
  }
 ],
 "metadata": {
  "anaconda-cloud": {},
  "kernel_info": {
   "name": "python3"
  },
  "kernelspec": {
   "display_name": "Python 3",
   "language": "python",
   "name": "python3"
  },
  "language_info": {
   "codemirror_mode": {
    "name": "ipython",
    "version": 3
   },
   "file_extension": ".py",
   "mimetype": "text/x-python",
   "name": "python",
   "nbconvert_exporter": "python",
   "pygments_lexer": "ipython3",
   "version": "3.8.5"
  },
  "latex_envs": {
   "LaTeX_envs_menu_present": true,
   "autoclose": false,
   "autocomplete": true,
   "bibliofile": "biblio.bib",
   "cite_by": "apalike",
   "current_citInitial": 1,
   "eqLabelWithNumbers": true,
   "eqNumInitial": 1,
   "hotkeys": {
    "equation": "Ctrl-E",
    "itemize": "Ctrl-I"
   },
   "labels_anchors": false,
   "latex_user_defs": false,
   "report_style_numbering": false,
   "user_envs_cfg": false
  },
  "nteract": {
   "version": "0.12.3"
  }
 },
 "nbformat": 4,
 "nbformat_minor": 2
}
